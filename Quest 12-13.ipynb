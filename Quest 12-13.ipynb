{
 "cells": [
  {
   "cell_type": "markdown",
   "id": "272bbc0c",
   "metadata": {},
   "source": [
    "Probability\n",
    "1. Calculate the probability of drawing a red card from a standard deck of playing cards.\n",
    "1/2\n",
    "2. Find the probability of rolling a number greater than 4 on a six-sided die.\n",
    "1/3.\n",
    "3. What is the probability of flipping a coin twice and getting one head and one tail?\n",
    "1/2\n",
    "4. If a bag contains 3 red, 4 blue, and 5 green marbles, what is the probability of picking a green marble?\n",
    "1/2.\n",
    "5. Determine the probability of drawing an Ace or a King from a standard deck of cards.\n",
    "2/9 or 2/13\n",
    "6. Calculate the probability of not getting a 6 when rolling a fair six-sided die.\n",
    "5/6\n",
    "7. If a jar has 7 red, 5 blue, and 8 yellow candies, what is the probability of picking a red or a blue candy?\n",
    "3/5\n",
    "8. In a class of 30 students, 18 are girls. What is the probability of randomly selecting a boy from the class?\n",
    "2/5\n",
    "9. What is the probability of drawing two hearts in a row from a deck of cards, without replacement?\n",
    "1/17\n",
    "10. If an event has a 70% chance of occurring, what is the probability it will happen 3 times in a row?\n",
    "0.343"
   ]
  },
  {
   "cell_type": "markdown",
   "id": "48984be5",
   "metadata": {},
   "source": [
    "Statistics\n",
    "1. Calculate the mean of the following dataset: [4, 8, 15, 16, 23, 42].\n",
    "18\n",
    "2. Find the median of the dataset: [7, 12, 3, 9, 15].\n",
    "9\n",
    "3. Determine the mode of the dataset: [2, 4, 4, 6, 7, 8, 8, 9].\n",
    "4 and 8\n",
    "4. Compute the standard deviation of the dataset: [5, 7, 3, 7, 8, 10).\n",
    "2.16\n",
    "5. Create a frequency distribution table for the data set [1, 2, 2, 3, 3, 3, 4].\n",
    "1 1\n",
    "2 2\n",
    "3 3\n",
    "4 1 \n",
    "6. Calculate the variance for the dataset: [10, 8, 10, 8, 9, 4]\n",
    "8.17\n",
    "7. Determine the range of the dataset: [22, 29, 17, 34, 28].\n",
    "17\n",
    "8. Using the dataset [4, 8, 6, 5, 3], calculate the z-score for the value 6.\n",
    "-0.37\n",
    "9. Create a box plot for the data set [5, 7, 8, 12, 15, 18, 18, 20].\n",
    "\n",
    "10. Given a sample size of 50, with a mean of 20 and a standard deviation of 5, calculate the margin of error at a 95% confidence level.\n",
    "1.386"
   ]
  },
  {
   "cell_type": "code",
   "execution_count": 1,
   "id": "e6f51339",
   "metadata": {},
   "outputs": [
    {
     "data": {
      "image/png": "[encoded data removed]",
      "text/plain": [
       "<Figure size 640x480 with 1 Axes>"
      ]
     },
     "metadata": {},
     "output_type": "display_data"
    }
   ],
   "source": [
    "import matplotlib.pyplot as plt\n",
    "data = [5, 7, 8, 12, 15, 18, 18, 20]\n",
    "\n",
    "plt.boxplot(data)\n",
    "plt.xlabel('Dataset')\n",
    "plt.ylabel('Values')\n",
    "plt.title('Box Plot for the Dataset')\n",
    "plt.show()"
   ]
  },
  {
   "cell_type": "markdown",
   "id": "447402b9",
   "metadata": {},
   "source": [
    "Linear Algebra\n",
    "1. Solve the system of equations: 2x + 3y = 10, x-y=3.\n",
    "    x=4 y-=1\n",
    "2. Find the determinant of the matrix [4 6,2 3]\n",
    "0\n",
    "3. Compute the inverse of the matrix [1 2,3 4]\n",
    "[-2 1,3/2 -1/2]\n",
    "4. Perform matrix multiplication on [1 2,3 4] and [5 6,7 8]\n",
    "[19 22,43 50]\n",
    "5. Calculate the dot product of the vectors (1, 3, -5) and (4, -2, -1).\n",
    "3\n",
    "6. Find the eigenvalues of  the matrix [2 0,0 3]\n",
    "{2,3}\n",
    "7. Perform scalar multiplication (by 3) on the matrix [1 2,3 4]\n",
    "[3 6,9 12]\n",
    "8. Calculate the cross product of vectors (1, 2, 3) and (4, 5, 6).\n",
    "-3i +2j -3k\n",
    "9. Find the rank of the matrix [1 2 3,4 5 6,7 8 9]\n",
    "2.\n",
    "10. Solve for x in the matrix equation Ax = b where A = [1 2,3 4] and b =[5,11]\n",
    "x=1 y=2"
   ]
  },
  {
   "cell_type": "markdown",
   "id": "ac596d23",
   "metadata": {},
   "source": [
    "Calculus\n",
    "1. Find the derivative of f(x)=x²-6x+8.\n",
    "2x -6 \n",
    "2. Calculate the integral of g(x) = 3x²+4x+1.\n",
    "x^3 +2x^2 +x + C\n",
    "3. Determine the limit as x approaches 3 for f(x)=(x^2 -9)/(x-3)\n",
    "6\n",
    "4. Find the area under the curve y=2x from x=1 to x=3.\n",
    "8\n",
    "5. Evaluate the derivative of h(x) = sin(x) at x=π/2\n",
    "0\n",
    "6. Compute the indefinite integral of f(x) = 2e^x.\n",
    "2e^x + C\n",
    "7. Find the slope of the tangent line to the curve y=x^2 at x = 2.\n",
    "-2\n",
    "8. Determine the critical points of f(x)=x^3 -3x²+2x.\n",
    "0,4/3\n",
    "9. Evaluate the limit as x approaches infinity of f(x)=(2x^2 +3x)/x\n",
    "inf\n",
    "10. Calculate the definite integral of f(x)=4x -2 from x=0 to x=4.\n",
    "24"
   ]
  }
 ],
 "metadata": {
  "kernelspec": {
   "display_name": "Python 3 (ipykernel)",
   "language": "python",
   "name": "python3"
  },
  "language_info": {
   "codemirror_mode": {
    "name": "ipython",
    "version": 3
   },
   "file_extension": ".py",
   "mimetype": "text/x-python",
   "name": "python",
   "nbconvert_exporter": "python",
   "pygments_lexer": "ipython3",
   "version": "3.7.9"
  },
  "varInspector": {
   "cols": {
    "lenName": 16,
    "lenType": 16,
    "lenVar": 40
   },
   "kernels_config": {
    "python": {
     "delete_cmd_postfix": "",
     "delete_cmd_prefix": "del ",
     "library": "var_list.py",
     "varRefreshCmd": "print(var_dic_list())"
    },
    "r": {
     "delete_cmd_postfix": ") ",
     "delete_cmd_prefix": "rm(",
     "library": "var_list.r",
     "varRefreshCmd": "cat(var_dic_list()) "
    }
   },
   "types_to_exclude": [
    "module",
    "function",
    "builtin_function_or_method",
    "instance",
    "_Feature"
   ],
   "window_display": false
  }
 },
 "nbformat": 4,
 "nbformat_minor": 5
}
