{
 "cells": [
  {
   "cell_type": "markdown",
   "id": "0a0afed3",
   "metadata": {},
   "source": [
    "Limits \n",
    "1) 1\n",
    "2) 1\n",
    "3) 8\n",
    "4) 0\n",
    "5) 1"
   ]
  },
  {
   "cell_type": "markdown",
   "id": "f07c3883",
   "metadata": {},
   "source": [
    "Derivatives\n",
    "1) 6x^2 -10x +1\n",
    "2) -sin(x)\n",
    "3) 1/x\n",
    "4) 2e^2x\n",
    "5) -1/x^2"
   ]
  },
  {
   "cell_type": "markdown",
   "id": "09a27776",
   "metadata": {},
   "source": [
    "Applications of Derivatives\n",
    "1) 6\n",
    "2) (2,2)\n",
    "3) 4 \n",
    "4) y−f(3)=f′(3)(x−3)\n",
    "5) increasing "
   ]
  },
  {
   "cell_type": "markdown",
   "id": "6a74db83",
   "metadata": {},
   "source": [
    "Integrals\n",
    "1) x^3 + C\n",
    "2) ln|x| + C\n",
    "3) x^2 +5x + C\n",
    "4) e^x + C\n",
    "5) 1/3"
   ]
  },
  {
   "cell_type": "markdown",
   "id": "d2152982",
   "metadata": {},
   "source": [
    "Applications of Integrals\n",
    "1) 26/3\n",
    "2) 32/3\n",
    "3) π/5\n",
    "4) 26/3\n",
    "5) 1/3"
   ]
  },
  {
   "cell_type": "markdown",
   "id": "46406f2e",
   "metadata": {},
   "source": [
    "Basic Differential Equations\n",
    "1)y=e^(3x+C)\n",
    "2)y=1/(C−x)\n",
    "3)y(x)= Asin(x)+ Bcos(x)\n",
    "4)y=2x^2\n",
    "5)∫xe^xdx+C"
   ]
  },
  {
   "cell_type": "markdown",
   "id": "b6f7b2b1",
   "metadata": {},
   "source": [
    "Multivariable Calculus\n",
    "1)2xy\n",
    "2)(2x,-2y)\n",
    "3)1/4\n",
    "4)2xy^3\n",
    "5)(0;0)"
   ]
  },
  {
   "cell_type": "markdown",
   "id": "feecb919",
   "metadata": {},
   "source": [
    "Series and Sequences\n",
    "1)π^(2)/6\n",
    "2)1.99\n",
    "3)diverges\n",
    "4)2\n",
    "5)an = a1+(n-1)d"
   ]
  },
  {
   "cell_type": "markdown",
   "id": "d59b0418",
   "metadata": {},
   "source": [
    "Applied Problems\n",
    "1) Velocity: v(t)=s′(t)=8t−3\n",
    "Acceleration:a(t)=v′(t)=8\n",
    "2)2x -10\n",
    "3)Consumer Surplus:∫0toQ(p(x)−30)dx, where Q is the quantity demanded\n",
    "4)A=πr^2\n",
    "rate of change= 2πr\n",
    "5)W=∫Fdx"
   ]
  },
  {
   "cell_type": "markdown",
   "id": "67a71e81",
   "metadata": {},
   "source": [
    "Miscellaneous Problems\n",
    "1)d/dx(sin(x))=cos(x)\n",
    "2)∫abf(x)dx=F(b)−F(a), where F(x) is the antiderivative of f(x)\n",
    "3)L=∫02 1+(y′)2dx\n",
    "4)∫abf(x)dx=−∫baf(x)dx\n",
    "5)lim x→∞e^x/x^2 The limit is +∞"
   ]
  }
 ],
 "metadata": {
  "kernelspec": {
   "display_name": "Python 3 (ipykernel)",
   "language": "python",
   "name": "python3"
  },
  "language_info": {
   "codemirror_mode": {
    "name": "ipython",
    "version": 3
   },
   "file_extension": ".py",
   "mimetype": "text/x-python",
   "name": "python",
   "nbconvert_exporter": "python",
   "pygments_lexer": "ipython3",
   "version": "3.7.9"
  },
  "varInspector": {
   "cols": {
    "lenName": 16,
    "lenType": 16,
    "lenVar": 40
   },
   "kernels_config": {
    "python": {
     "delete_cmd_postfix": "",
     "delete_cmd_prefix": "del ",
     "library": "var_list.py",
     "varRefreshCmd": "print(var_dic_list())"
    },
    "r": {
     "delete_cmd_postfix": ") ",
     "delete_cmd_prefix": "rm(",
     "library": "var_list.r",
     "varRefreshCmd": "cat(var_dic_list()) "
    }
   },
   "types_to_exclude": [
    "module",
    "function",
    "builtin_function_or_method",
    "instance",
    "_Feature"
   ],
   "window_display": false
  }
 },
 "nbformat": 4,
 "nbformat_minor": 5
}
