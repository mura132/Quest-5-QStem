{
 "cells": [
  {
   "cell_type": "markdown",
   "id": "fcdc945d",
   "metadata": {},
   "source": [
    "Arrays and Strings"
   ]
  },
  {
   "cell_type": "code",
   "execution_count": 1,
   "id": "63de6b11",
   "metadata": {},
   "outputs": [
    {
     "name": "stdout",
     "output_type": "stream",
     "text": [
      "pls enter size of your array10\n",
      "your array:[40, 43, 41, 24, 13, 4, 36, 19, 40, 25]\n"
     ]
    }
   ],
   "source": [
    "##Creating random array\n",
    "from random import randint\n",
    " \n",
    "n = int(input(\"pls enter size of your array\")) ##size of array\n",
    "data = [randint(1, 50) for i in range(n)] ##random array\n",
    "print(f'your array:{data}')"
   ]
  },
  {
   "cell_type": "code",
   "execution_count": 3,
   "id": "e66889fa",
   "metadata": {},
   "outputs": [
    {
     "name": "stdout",
     "output_type": "stream",
     "text": [
      "the maximum number in an array with sort(): 43\n",
      "the maximum number in an array with for: 43\n"
     ]
    }
   ],
   "source": [
    "##1)Write a program to find the maximum number in an array.\n",
    "data.sort()\n",
    "print(f'the maximum number in an array with sort(): {data[-1]}')\n",
    "##or\n",
    "x = 0\n",
    "for i in range(0, len(data)): ##loop comparing all numbers in the array\n",
    "    if x > data[i]:\n",
    "        x = data[i]\n",
    "        \n",
    "print(f'the maximum number in an array with for: {data[-1]}')"
   ]
  },
  {
   "cell_type": "code",
   "execution_count": 5,
   "id": "6c6d590f",
   "metadata": {},
   "outputs": [
    {
     "data": {
      "text/plain": [
       "'average of the numbers in an array: 28.5'"
      ]
     },
     "execution_count": 5,
     "metadata": {},
     "output_type": "execute_result"
    }
   ],
   "source": [
    "##2)Create a function to calculate the average of the numbers in an array.\n",
    "def arr_avg(data):\n",
    "    arr_sum = 0\n",
    "    for i in range(0, len(data)): ##loop to find the sum of all numbers\n",
    "        arr_sum += data[i]\n",
    "    avg_num = round(arr_sum / len(data), 2) ##average number by dividing the sum of the numbers by their number\n",
    "    return(f'average of the numbers in an array: {avg_num}')\n",
    "\n",
    "arr_avg(data)"
   ]
  },
  {
   "cell_type": "code",
   "execution_count": 24,
   "id": "bc324f8f",
   "metadata": {},
   "outputs": [
    {
     "data": {
      "text/plain": [
       "\"reversed array: ['y', 't', 'r', 'e', 'w', 'q']\""
      ]
     },
     "execution_count": 24,
     "metadata": {},
     "output_type": "execute_result"
    }
   ],
   "source": [
    "##3)Implement an algorithm to reverse a string.\n",
    "def reversed_arr(data):\n",
    "    revers_data = []\n",
    "    for i in range(-1, -len(data) - 1, -1): ##loop for get index from end to beginning of array\n",
    "        revers_data.append(data[i]) ##addition numbers to new array\n",
    "    return(f'reversed array: {revers_data}')\n",
    "\n",
    "str_data = str(\"qwerty\")\n",
    "reversed_arr(str_data)"
   ]
  },
  {
   "cell_type": "code",
   "execution_count": 25,
   "id": "91c53201",
   "metadata": {},
   "outputs": [
    {
     "name": "stdout",
     "output_type": "stream",
     "text": [
      "reversed data by index: ytrewq\n",
      "reversed data by reversed(): ['y', 't', 'r', 'e', 'w', 'q']\n"
     ]
    }
   ],
   "source": [
    "print(f'reversed data by index: {str_data[::-1]}')\n",
    "print(f'reversed data by reversed(): {list(reversed(str_data))}')"
   ]
  },
  {
   "cell_type": "code",
   "execution_count": 30,
   "id": "b5d7296d",
   "metadata": {},
   "outputs": [
    {
     "name": "stdout",
     "output_type": "stream",
     "text": [
      "False\n",
      "True\n"
     ]
    }
   ],
   "source": [
    "##4)Write a method to check if a string is a palindrome.\n",
    "def is_palindrome(data):\n",
    "    return str(data) == str(data)[::-1] if type(n) is int else n == n[::-1]\n",
    "\n",
    "palindrome = str('qwertytrewq')\n",
    "print(is_palindrome(str_data))\n",
    "print(is_palindrome(palindrome))"
   ]
  },
  {
   "cell_type": "code",
   "execution_count": 33,
   "id": "c6b8fbcc",
   "metadata": {},
   "outputs": [
    {
     "name": "stdout",
     "output_type": "stream",
     "text": [
      "first array: [49, 46, 34, 43, 40, 13, 33, 23, 34, 40]\n",
      "second array: [23, 24, 32, 2, 4, 22, 12, 25, 48, 27]\n",
      "[23]\n"
     ]
    }
   ],
   "source": [
    "##5)Find the common elements between two arrays.\n",
    "first_arr = [randint(1, 50) for i in range(10)]\n",
    "print(f'first array: {first_arr}')\n",
    "second_arr = [randint(1, 50) for i in range(10)]\n",
    "print(f'second array: {second_arr}')\n",
    "comm_arr = []\n",
    "for i in range(0, len(first_arr)):\n",
    "    for j in range(0, len(second_arr)):\n",
    "        if first_arr[i] == second_arr[j]:\n",
    "            comm_arr.append(second_arr[j])\n",
    "\n",
    "print(comm_arr)"
   ]
  },
  {
   "cell_type": "code",
   "execution_count": 2,
   "id": "cde15a8a",
   "metadata": {},
   "outputs": [
    {
     "name": "stdout",
     "output_type": "stream",
     "text": [
      "Sorted Array in Ascending Order:\n",
      "[-9, -2, 0, 11, 45]\n",
      "[-9, -2, 0, 11, 45]\n"
     ]
    }
   ],
   "source": [
    "##6)Write a program to sort an array of integers in ascending order.\n",
    "def bubbleSort(array):\n",
    "  for i in range(len(array)): ##loop to access each array element\n",
    "    for j in range(0, len(array) - i - 1):\n",
    "      if array[j] > array[j + 1]:\n",
    "        temp = array[j] ##swapping elements if elements are not in the intended order\n",
    "        array[j] = array[j+1]\n",
    "        array[j+1] = temp\n",
    "\n",
    "\n",
    "array = [-2, 45, 0, 11, -9]\n",
    "\n",
    "bubbleSort(array)\n",
    "\n",
    "print('Sorted Array in Ascending Order:')\n",
    "print(array)\n",
    "\n",
    "\n",
    "array.sort()\n",
    "print(array)"
   ]
  },
  {
   "cell_type": "code",
   "execution_count": 4,
   "id": "33e8bb97",
   "metadata": {},
   "outputs": [
    {
     "data": {
      "text/plain": [
       "'qwertyasdfgh'"
      ]
     },
     "execution_count": 4,
     "metadata": {},
     "output_type": "execute_result"
    }
   ],
   "source": [
    "##7)Create a function that concatenates two strings into one\n",
    "def two_in_one(str_1,str_2):\n",
    "    return str_1 + str_2\n",
    "\n",
    "first_str = str(\"qwerty\")\n",
    "second_str = str(\"asdfgh\")\n",
    "\n",
    "two_in_one(first_str,second_str)"
   ]
  },
  {
   "cell_type": "code",
   "execution_count": 7,
   "id": "ef5b7d7b",
   "metadata": {},
   "outputs": [
    {
     "data": {
      "text/plain": [
       "'count the number of vowels in a string: 4'"
      ]
     },
     "execution_count": 7,
     "metadata": {},
     "output_type": "execute_result"
    }
   ],
   "source": [
    "##8)Implement a method to count the number of vowels in a string.\n",
    "def vowel_count(str_in):\n",
    "    count = 0\n",
    "    vowels = ['a', 'e', 'i', 'o', 'u', 'y']\n",
    "    lower_str = str_in.lower()\n",
    "    for i in range(0, len(lower_str)):\n",
    "        if lower_str[i] in vowels:\n",
    "            count += 1\n",
    "    return f'count the number of vowels in a string: {count}'\n",
    "\n",
    "vowel_str = str('qwertyuasdfghj')\n",
    "vowel_count(vowel_str)"
   ]
  },
  {
   "cell_type": "code",
   "execution_count": 11,
   "id": "377bd0d4",
   "metadata": {},
   "outputs": [
    {
     "name": "stdout",
     "output_type": "stream",
     "text": [
      "write a charater: QWERTY\n",
      "ItQWERTYsQWERTYaQWERTY9QWERTYoffQWERTYArraysQWERTYandQWERTYStrings\n"
     ]
    }
   ],
   "source": [
    "##9)Write a program that replaces spaces in a string with a specific character.\n",
    "x = input('write a charater: ')\n",
    "rep_str = str('It s a 9 off Arrays and Strings')\n",
    "print(rep_str.replace(\" \", x))"
   ]
  },
  {
   "cell_type": "code",
   "execution_count": 33,
   "id": "283ceaf2",
   "metadata": {},
   "outputs": [
    {
     "name": "stdout",
     "output_type": "stream",
     "text": [
      "its largest string in array: HI its 10 off arrays and strings quest\n",
      "its smallest string in array: small string\n"
     ]
    }
   ],
   "source": [
    "##10)Find the smallest and largest strings in an array of strings.\n",
    "str_array = [\n",
    "    \"HI its 10 off arrays and strings quest\",\n",
    "    \"small string\",\n",
    "    \"Idk what to write to this string\",\n",
    "    \"Hi everyone! Today is tuesday!\"\n",
    "]\n",
    "print(f'its largest string in array: {max(str_array, key=len)}')\n",
    "print(f'its smallest string in array: {min(str_array, key=len)}')        "
   ]
  },
  {
   "cell_type": "markdown",
   "id": "091cc4c8",
   "metadata": {},
   "source": [
    "Linked Lists"
   ]
  },
  {
   "cell_type": "code",
   "execution_count": 1,
   "id": "395873cc",
   "metadata": {},
   "outputs": [],
   "source": [
    "class Node:\n",
    "    def __init__(self, data):\n",
    "        self.data = data\n",
    "        self.next = None\n",
    "\n",
    "class LinkedList:\n",
    "    def __init__(self):\n",
    "        self.head = None\n",
    "\n",
    "    def count_nodes(self):\n",
    "        count = 0\n",
    "        current = self.head\n",
    "        while current:\n",
    "            count += 1\n",
    "            current = current.next\n",
    "        return count\n",
    "\n",
    "    def add_at_beginning(self, data):\n",
    "        new_node = Node(data)\n",
    "        new_node.next = self.head\n",
    "        self.head = new_node\n",
    "\n",
    "    def add_at_end(self, data):\n",
    "        new_node = Node(data)\n",
    "        if not self.head:\n",
    "            self.head = new_node\n",
    "            return\n",
    "        current = self.head\n",
    "        while current.next:\n",
    "            current = current.next\n",
    "        current.next = new_node\n",
    "\n",
    "    def delete_node(self, key):\n",
    "        current = self.head\n",
    "        if current and current.data == key:\n",
    "            self.head = current.next\n",
    "            current = None\n",
    "            return\n",
    "        prev = None\n",
    "        while current and current.data != key:\n",
    "            prev = current\n",
    "            current = current.next\n",
    "        if current is None:\n",
    "            return\n",
    "        prev.next = current.next\n",
    "        current = None\n",
    "\n",
    "    def search(self, key):\n",
    "        current = self.head\n",
    "        while current:\n",
    "            if current.data == key:\n",
    "                return True\n",
    "            current = current.next\n",
    "        return False\n",
    "\n",
    "    def reverse(self):\n",
    "        prev = None\n",
    "        current = self.head\n",
    "        while current:\n",
    "            next_node = current.next\n",
    "            current.next = prev\n",
    "            prev = current\n",
    "            current = next_node\n",
    "        self.head = prev\n",
    "\n",
    "    def find_middle(self):\n",
    "        slow = fast = self.head\n",
    "        while fast and fast.next:\n",
    "            slow = slow.next\n",
    "            fast = fast.next.next\n",
    "        return slow.data\n",
    "\n",
    "    def remove_duplicates(self):\n",
    "        current = self.head\n",
    "        while current:\n",
    "            runner = current\n",
    "            while runner.next:\n",
    "                if runner.next.data == current.data:\n",
    "                    runner.next = runner.next.next\n",
    "                else:\n",
    "                    runner = runner.next\n",
    "            current = current.next\n",
    "\n",
    "    def detect_loop(self):\n",
    "        slow = fast = self.head\n",
    "        while fast and fast.next:\n",
    "            slow = slow.next\n",
    "            fast = fast.next.next\n",
    "            if slow == fast:\n",
    "                return True\n",
    "        return False"
   ]
  },
  {
   "cell_type": "code",
   "execution_count": 2,
   "id": "4a26e222",
   "metadata": {},
   "outputs": [
    {
     "name": "stdout",
     "output_type": "stream",
     "text": [
      "Original linked list:\n",
      "1 -> 2 -> 3 -> 4 -> None\n",
      "Number of nodes: 4\n",
      "Linked list after adding at the beginning and end:\n",
      "0 -> 1 -> 2 -> 3 -> 4 -> 5 -> None\n",
      "Linked list after deleting node with value 2:\n",
      "0 -> 1 -> 3 -> 4 -> 5 -> None\n",
      "Is 3 in the linked list? True\n",
      "Is 10 in the linked list? False\n",
      "Reversed linked list:\n",
      "5 -> 4 -> 3 -> 1 -> 0 -> None\n",
      "Middle element: 3\n",
      "Linked list with duplicates:\n",
      "5 -> 4 -> 3 -> 1 -> 0 -> 3 -> 5 -> 1 -> None\n",
      "Linked list after removing duplicates:\n",
      "5 -> 4 -> 3 -> 1 -> 0 -> None\n",
      "Does the linked list have a loop? True\n"
     ]
    }
   ],
   "source": [
    "# Example usage:\n",
    "linked_list = LinkedList()\n",
    "linked_list.add_at_end(1)\n",
    "linked_list.add_at_end(2)\n",
    "linked_list.add_at_end(3)\n",
    "linked_list.add_at_end(4)\n",
    "\n",
    "print(\"Original linked list:\")\n",
    "current = linked_list.head\n",
    "while current:\n",
    "    print(current.data, end=\" -> \")\n",
    "    current = current.next\n",
    "print(\"None\")\n",
    "\n",
    "print(\"Number of nodes:\", linked_list.count_nodes())\n",
    "\n",
    "linked_list.add_at_beginning(0)\n",
    "linked_list.add_at_end(5)\n",
    "\n",
    "print(\"Linked list after adding at the beginning and end:\")\n",
    "current = linked_list.head\n",
    "while current:\n",
    "    print(current.data, end=\" -> \")\n",
    "    current = current.next\n",
    "print(\"None\")\n",
    "\n",
    "linked_list.delete_node(2)\n",
    "\n",
    "print(\"Linked list after deleting node with value 2:\")\n",
    "current = linked_list.head\n",
    "while current:\n",
    "    print(current.data, end=\" -> \")\n",
    "    current = current.next\n",
    "print(\"None\")\n",
    "\n",
    "print(\"Is 3 in the linked list?\", linked_list.search(3))\n",
    "print(\"Is 10 in the linked list?\", linked_list.search(10))\n",
    "\n",
    "linked_list.reverse()\n",
    "\n",
    "print(\"Reversed linked list:\")\n",
    "current = linked_list.head\n",
    "while current:\n",
    "    print(current.data, end=\" -> \")\n",
    "    current = current.next\n",
    "print(\"None\")\n",
    "\n",
    "print(\"Middle element:\", linked_list.find_middle())\n",
    "\n",
    "linked_list.add_at_end(3)\n",
    "linked_list.add_at_end(5)\n",
    "linked_list.add_at_end(1)\n",
    "\n",
    "print(\"Linked list with duplicates:\")\n",
    "current = linked_list.head\n",
    "while current:\n",
    "    print(current.data, end=\" -> \")\n",
    "    current = current.next\n",
    "print(\"None\")\n",
    "\n",
    "linked_list.remove_duplicates()\n",
    "\n",
    "print(\"Linked list after removing duplicates:\")\n",
    "current = linked_list.head\n",
    "while current:\n",
    "    print(current.data, end=\" -> \")\n",
    "    current = current.next\n",
    "print(\"None\")\n",
    "\n",
    "# Creating a loop in the linked list for testing loop detection\n",
    "linked_list.head.next.next.next.next.next = linked_list.head.next.next\n",
    "\n",
    "print(\"Does the linked list have a loop?\", linked_list.detect_loop())"
   ]
  },
  {
   "cell_type": "markdown",
   "id": "76323a76",
   "metadata": {},
   "source": [
    "Stacks"
   ]
  },
  {
   "cell_type": "code",
   "execution_count": 3,
   "id": "b3f9e320",
   "metadata": {},
   "outputs": [],
   "source": [
    "class Stack:\n",
    "    def __init__(self):\n",
    "        self.items = []\n",
    "\n",
    "    def is_empty(self):\n",
    "        return len(self.items) == 0\n",
    "\n",
    "    def push(self, item):\n",
    "        self.items.append(item)\n",
    "\n",
    "    def pop(self):\n",
    "        if not self.is_empty():\n",
    "            return self.items.pop()\n",
    "\n",
    "    def top(self):\n",
    "        if not self.is_empty():\n",
    "            return self.items[-1]\n",
    "\n",
    "    def evaluate_postfix_expression(self, expression):\n",
    "        operators = set(['+', '-', '*', '/'])\n",
    "        for char in expression:\n",
    "            if char.isdigit():\n",
    "                self.push(int(char))\n",
    "            elif char in operators:\n",
    "                operand2 = self.pop()\n",
    "                operand1 = self.pop()\n",
    "                if operand1 is not None and operand2 is not None:\n",
    "                    if char == '+':\n",
    "                        self.push(operand1 + operand2)\n",
    "                    elif char == '-':\n",
    "                        self.push(operand1 - operand2)\n",
    "                    elif char == '*':\n",
    "                        self.push(operand1 * operand2)\n",
    "                    elif char == '/':\n",
    "                        self.push(operand1 / operand2)\n",
    "        return self.pop()\n",
    "\n",
    "    def min_element_stack(self):\n",
    "        if not self.is_empty():\n",
    "            return min(self.items)\n",
    "\n",
    "    def reverse_stack_recursive(self):\n",
    "        if not self.is_empty():\n",
    "            temp = self.pop()\n",
    "            self.reverse_stack_recursive()\n",
    "            self.insert_at_bottom(temp)\n",
    "\n",
    "    def insert_at_bottom(self, item):\n",
    "        if self.is_empty():\n",
    "            self.push(item)\n",
    "        else:\n",
    "            temp = self.pop()\n",
    "            self.insert_at_bottom(item)\n",
    "            self.push(temp)\n",
    "\n",
    "    def sort_stack(self):\n",
    "        if not self.is_empty():\n",
    "            temp = self.pop()\n",
    "            self.sort_stack()\n",
    "            self.sorted_insert(temp)\n",
    "\n",
    "    def sorted_insert(self, item):\n",
    "        if self.is_empty() or item > self.top():\n",
    "            self.push(item)\n",
    "        else:\n",
    "            temp = self.pop()\n",
    "            self.sorted_insert(item)\n",
    "            self.push(temp)\n",
    "\n",
    "def is_balanced_parentheses(expression):\n",
    "    stack = Stack()\n",
    "    for char in expression:\n",
    "        if char in '({[':\n",
    "            stack.push(char)\n",
    "        elif char in ')}]':\n",
    "            if stack.is_empty():\n",
    "                return False\n",
    "            top_char = stack.pop()\n",
    "            if (char == ')' and top_char != '(') or \\\n",
    "               (char == '}' and top_char != '{') or \\\n",
    "               (char == ']' and top_char != '['):\n",
    "                return False\n",
    "    return stack.is_empty()"
   ]
  },
  {
   "cell_type": "code",
   "execution_count": 5,
   "id": "4df23439",
   "metadata": {},
   "outputs": [
    {
     "name": "stdout",
     "output_type": "stream",
     "text": [
      "Top element: 3\n",
      "Is the stack empty? False\n",
      "Popped element: 3\n",
      "Is the stack empty after popping? False\n",
      "Evaluation of postfix expression '23*5+': 11\n",
      "Minimum element in the stack: 1\n",
      "Original stack for reversal: [1, 2, 3, 4, 5]\n",
      "Reversed stack: [5, 4, 3, 2, 1]\n",
      "Original stack for sorting: [4, 1, 5, 3, 2]\n",
      "Sorted stack: [1, 2, 3, 4, 5]\n",
      "Is the expression '{[()]}' balanced? True\n",
      "Is the expression '{[(]}' balanced? False\n"
     ]
    }
   ],
   "source": [
    "# Example usage:\n",
    "stack = Stack()\n",
    "stack.push(1)\n",
    "stack.push(2)\n",
    "stack.push(3)\n",
    "\n",
    "print(\"Top element:\", stack.top())\n",
    "\n",
    "print(\"Is the stack empty?\", stack.is_empty())\n",
    "\n",
    "print(\"Popped element:\", stack.pop())\n",
    "\n",
    "print(\"Is the stack empty after popping?\", stack.is_empty())\n",
    "\n",
    "postfix_expression = \"23*5+\"\n",
    "print(f\"Evaluation of postfix expression '{postfix_expression}':\", stack.evaluate_postfix_expression(postfix_expression))\n",
    "\n",
    "min_stack = Stack()\n",
    "min_stack.push(3)\n",
    "min_stack.push(5)\n",
    "min_stack.push(1)\n",
    "min_stack.push(2)\n",
    "\n",
    "print(\"Minimum element in the stack:\", min_stack.min_element_stack())\n",
    "\n",
    "reverse_stack = Stack()\n",
    "for i in range(1, 6):\n",
    "    reverse_stack.push(i)\n",
    "\n",
    "print(\"Original stack for reversal:\", reverse_stack.items)\n",
    "reverse_stack.reverse_stack_recursive()\n",
    "print(\"Reversed stack:\", reverse_stack.items)\n",
    "\n",
    "sort_stack = Stack()\n",
    "sort_stack.push(4)\n",
    "sort_stack.push(1)\n",
    "sort_stack.push(5)\n",
    "sort_stack.push(3)\n",
    "sort_stack.push(2)\n",
    "\n",
    "print(\"Original stack for sorting:\", sort_stack.items)\n",
    "sort_stack.sort_stack()\n",
    "print(\"Sorted stack:\", sort_stack.items)\n",
    "\n",
    "balanced_expression = \"{[()]}\"\n",
    "print(f\"Is the expression '{balanced_expression}' balanced?\", is_balanced_parentheses(balanced_expression))\n",
    "\n",
    "unbalanced_expression = \"{[(]}\"\n",
    "print(f\"Is the expression '{unbalanced_expression}' balanced?\", is_balanced_parentheses(unbalanced_expression))"
   ]
  },
  {
   "cell_type": "markdown",
   "id": "517f9ec9",
   "metadata": {},
   "source": [
    "Queues"
   ]
  },
  {
   "cell_type": "code",
   "execution_count": 6,
   "id": "91d4af3d",
   "metadata": {},
   "outputs": [],
   "source": [
    "class Queue:\n",
    "    def __init__(self):\n",
    "        self.items = []\n",
    "\n",
    "    def is_empty(self):\n",
    "        return len(self.items) == 0\n",
    "\n",
    "    def enqueue(self, item):\n",
    "        self.items.append(item)\n",
    "\n",
    "    def dequeue(self):\n",
    "        if not self.is_empty():\n",
    "            return self.items.pop(0)\n",
    "\n",
    "    def front(self):\n",
    "        if not self.is_empty():\n",
    "            return self.items[0]\n",
    "\n",
    "    def circular_enqueue(self, item):\n",
    "        self.items.append(item)\n",
    "\n",
    "    def circular_dequeue(self):\n",
    "        if not self.is_empty():\n",
    "            return self.items.pop(0)\n",
    "\n",
    "    def priority_enqueue(self, item, priority):\n",
    "        entry = (item, priority)\n",
    "        if not self.items or priority > self.items[-1][1]:\n",
    "            self.items.append(entry)\n",
    "        else:\n",
    "            for i in range(len(self.items) - 1, -1, -1):\n",
    "                if priority > self.items[i][1]:\n",
    "                    self.items.insert(i + 1, entry)\n",
    "                    break\n",
    "            else:\n",
    "                self.items.insert(0, entry)\n",
    "\n",
    "    def reverse_k_elements(self, k):\n",
    "        if 0 < k <= len(self.items):\n",
    "            temp_stack = []\n",
    "            for _ in range(k):\n",
    "                temp_stack.append(self.dequeue())\n",
    "            while temp_stack:\n",
    "                self.enqueue(temp_stack.pop())\n",
    "\n",
    "    def generate_binary_numbers(self, n):\n",
    "        for i in range(n):\n",
    "            self.enqueue(\"1\" if i % 2 == 0 else \"0\")\n",
    "\n",
    "    def deck_shuffle_simulation(self):\n",
    "        half_size = len(self.items) // 2\n",
    "        shuffled_deck = []\n",
    "        for i in range(half_size):\n",
    "            shuffled_deck.append(self.dequeue())\n",
    "            shuffled_deck.append(self.dequeue() if i + 1 < half_size else None)\n",
    "        self.items = [item for item in shuffled_deck if item is not None]"
   ]
  },
  {
   "cell_type": "code",
   "execution_count": 7,
   "id": "6bb305e7",
   "metadata": {},
   "outputs": [
    {
     "name": "stdout",
     "output_type": "stream",
     "text": [
      "Front element of the queue: 1\n",
      "Is the queue empty? False\n",
      "Dequeued element: 1\n",
      "Is the queue empty after dequeuing? False\n",
      "Original circular queue: [1, 2, 3, 4, 5]\n",
      "Circular queue after dequeuing: [2, 3, 4, 5]\n",
      "Priority queue: [('Task 2', 1), ('Task 3', 2), ('Task 1', 3)]\n",
      "Original queue before reversing first 2 elements: [2, 3]\n",
      "Queue after reversing first 2 elements: [3, 2]\n",
      "Generated binary numbers using a queue: ['1', '0', '1', '0', '1']\n",
      "Original deck: ['A', '2', '3', '4', '5', '6', '7', '8', '9', '10', 'J', 'Q', 'K']\n",
      "Shuffled deck: ['A', '2', '3', '4', '5', '6', '7', '8', '9', '10', 'J']\n"
     ]
    }
   ],
   "source": [
    "# Example usage:\n",
    "queue = Queue()\n",
    "queue.enqueue(1)\n",
    "queue.enqueue(2)\n",
    "queue.enqueue(3)\n",
    "\n",
    "print(\"Front element of the queue:\", queue.front())\n",
    "\n",
    "print(\"Is the queue empty?\", queue.is_empty())\n",
    "\n",
    "print(\"Dequeued element:\", queue.dequeue())\n",
    "\n",
    "print(\"Is the queue empty after dequeuing?\", queue.is_empty())\n",
    "\n",
    "circular_queue = Queue()\n",
    "for i in range(1, 6):\n",
    "    circular_queue.circular_enqueue(i)\n",
    "\n",
    "print(\"Original circular queue:\", circular_queue.items)\n",
    "circular_queue.circular_dequeue()\n",
    "print(\"Circular queue after dequeuing:\", circular_queue.items)\n",
    "\n",
    "priority_queue = Queue()\n",
    "priority_queue.priority_enqueue(\"Task 1\", 3)\n",
    "priority_queue.priority_enqueue(\"Task 2\", 1)\n",
    "priority_queue.priority_enqueue(\"Task 3\", 2)\n",
    "\n",
    "print(\"Priority queue:\", priority_queue.items)\n",
    "\n",
    "k = 2\n",
    "print(f\"Original queue before reversing first {k} elements:\", queue.items)\n",
    "queue.reverse_k_elements(k)\n",
    "print(f\"Queue after reversing first {k} elements:\", queue.items)\n",
    "\n",
    "binary_queue = Queue()\n",
    "binary_queue.generate_binary_numbers(5)\n",
    "print(\"Generated binary numbers using a queue:\", binary_queue.items)\n",
    "\n",
    "deck = Queue()\n",
    "for card in [\"A\", \"2\", \"3\", \"4\", \"5\", \"6\", \"7\", \"8\", \"9\", \"10\", \"J\", \"Q\", \"K\"]:\n",
    "    deck.enqueue(card)\n",
    "\n",
    "print(\"Original deck:\", deck.items)\n",
    "deck.deck_shuffle_simulation()\n",
    "print(\"Shuffled deck:\", deck.items)\n"
   ]
  },
  {
   "cell_type": "markdown",
   "id": "afa5b9d6",
   "metadata": {},
   "source": [
    "Mixed Data Structures"
   ]
  },
  {
   "cell_type": "code",
   "execution_count": 8,
   "id": "7888f584",
   "metadata": {},
   "outputs": [
    {
     "name": "stdout",
     "output_type": "stream",
     "text": [
      "Elements in alternating order:\n",
      "8 1 6 3 4 5 2 7 9 "
     ]
    }
   ],
   "source": [
    "##1)Create a program that uses both a stack and a queue to print elements in alternating order.\n",
    "from collections import deque\n",
    "\n",
    "def alternating_order(elements):\n",
    "    stack = []\n",
    "    queue = deque()\n",
    "\n",
    "    for elem in elements:\n",
    "        if elem % 2 == 0:\n",
    "            stack.append(elem)\n",
    "        else:\n",
    "            queue.append(elem)\n",
    "\n",
    "    while stack or queue:\n",
    "        if stack:\n",
    "            print(stack.pop(), end=\" \")\n",
    "        if queue:\n",
    "            print(queue.popleft(), end=\" \")\n",
    "\n",
    "# Example usage:\n",
    "elements = [1, 2, 3, 4, 5, 6, 7, 8, 9]\n",
    "print(\"Elements in alternating order:\")\n",
    "alternating_order(elements)"
   ]
  },
  {
   "cell_type": "code",
   "execution_count": 9,
   "id": "2b218b2b",
   "metadata": {},
   "outputs": [
    {
     "name": "stdout",
     "output_type": "stream",
     "text": [
      "Current text: Hello World!\n",
      "After undo: Hello \n"
     ]
    }
   ],
   "source": [
    "##2)Implement a text editor undo feature using stacks.\n",
    "class TextEditor:\n",
    "    def __init__(self):\n",
    "        self.text = \"\"\n",
    "        self.undo_stack = []\n",
    "\n",
    "    def add_text(self, new_text):\n",
    "        self.text += new_text\n",
    "        self.undo_stack.append(self.text)\n",
    "\n",
    "    def undo(self):\n",
    "        if len(self.undo_stack) > 1:\n",
    "            self.undo_stack.pop()\n",
    "            self.text = self.undo_stack[-1]\n",
    "\n",
    "    def get_text(self):\n",
    "        return self.text\n",
    "\n",
    "# Example usage:\n",
    "editor = TextEditor()\n",
    "editor.add_text(\"Hello \")\n",
    "editor.add_text(\"World!\")\n",
    "print(\"Current text:\", editor.get_text())\n",
    "editor.undo()\n",
    "print(\"After undo:\", editor.get_text())\n"
   ]
  },
  {
   "cell_type": "code",
   "execution_count": 10,
   "id": "35d563cd",
   "metadata": {},
   "outputs": [
    {
     "name": "stdout",
     "output_type": "stream",
     "text": [
      "Popped from Stack 1: 5\n",
      "Popped from Stack 2: 4\n"
     ]
    }
   ],
   "source": [
    "##3)Write a program to implement two stacks in one array.\n",
    "class TwoStacks:\n",
    "    def __init__(self, capacity):\n",
    "        self.capacity = capacity\n",
    "        self.array = [None] * capacity\n",
    "        self.top1 = -1\n",
    "        self.top2 = capacity\n",
    "\n",
    "    def push1(self, item):\n",
    "        if self.top1 < self.top2 - 1:\n",
    "            self.top1 += 1\n",
    "            self.array[self.top1] = item\n",
    "        else:\n",
    "            print(\"Stack Overflow\")\n",
    "\n",
    "    def push2(self, item):\n",
    "        if self.top1 < self.top2 - 1:\n",
    "            self.top2 -= 1\n",
    "            self.array[self.top2] = item\n",
    "        else:\n",
    "            print(\"Stack Overflow\")\n",
    "\n",
    "    def pop1(self):\n",
    "        if self.top1 >= 0:\n",
    "            item = self.array[self.top1]\n",
    "            self.top1 -= 1\n",
    "            return item\n",
    "        else:\n",
    "            print(\"Stack 1 Underflow\")\n",
    "\n",
    "    def pop2(self):\n",
    "        if self.top2 < self.capacity:\n",
    "            item = self.array[self.top2]\n",
    "            self.top2 += 1\n",
    "            return item\n",
    "        else:\n",
    "            print(\"Stack 2 Underflow\")\n",
    "\n",
    "# Example usage:\n",
    "two_stacks = TwoStacks(5)\n",
    "two_stacks.push1(1)\n",
    "two_stacks.push2(2)\n",
    "two_stacks.push1(3)\n",
    "two_stacks.push2(4)\n",
    "two_stacks.push1(5)\n",
    "\n",
    "print(\"Popped from Stack 1:\", two_stacks.pop1())\n",
    "print(\"Popped from Stack 2:\", two_stacks.pop2())"
   ]
  },
  {
   "cell_type": "code",
   "execution_count": 20,
   "id": "9078be6d",
   "metadata": {},
   "outputs": [
    {
     "name": "stdout",
     "output_type": "stream",
     "text": [
      "Original Sentence: Hello World!\n",
      "Reversed Sentence: World! Hello\n"
     ]
    }
   ],
   "source": [
    "##4)Create a function that uses a stack to reverse the words in a sentence.\n",
    "def reverse_words(sentence):\n",
    "    words = sentence.split()\n",
    "    stack = []\n",
    "    for word in words:\n",
    "        stack.append(word)\n",
    "\n",
    "    reversed_words = []\n",
    "    while stack:\n",
    "        reversed_words.append(stack.pop())\n",
    "\n",
    "    reversed_sentence = \" \".join(reversed_words)\n",
    "    return reversed_sentence\n",
    "\n",
    "# Example usage:\n",
    "sentence = \"Hello World!\"\n",
    "reversed_sentence = reverse_words(sentence)\n",
    "print(\"Original Sentence:\", sentence)\n",
    "print(\"Reversed Sentence:\", reversed_sentence)"
   ]
  },
  {
   "cell_type": "code",
   "execution_count": 38,
   "id": "9214262b",
   "metadata": {},
   "outputs": [
    {
     "name": "stdout",
     "output_type": "stream",
     "text": [
      "4 11 15 30 "
     ]
    }
   ],
   "source": [
    "##5)Implement a method to sort an array using two queues.\n",
    "from queue import Queue  \n",
    "  \n",
    "# Queue elements after sortedIndex are  \n",
    "# already sorted. This function returns  \n",
    "# index of minimum element from front to  \n",
    "# sortedIndex  \n",
    "def minIndex(q, sortedIndex): \n",
    "    min_index = -1\n",
    "    min_val = 999999999999\n",
    "    n = q.qsize() \n",
    "    for i in range(n): \n",
    "        curr = q.queue[0]  \n",
    "        q.get() # This is dequeue() in C++ STL  \n",
    "  \n",
    "        # we add the condition i <= sortedIndex  \n",
    "        # because we don't want to traverse  \n",
    "        # on the sorted part of the queue,  \n",
    "        # which is the right part.  \n",
    "        if (curr <= min_val and i <= sortedIndex): \n",
    "            min_index = i  \n",
    "            min_val = curr \n",
    "        q.put(curr) # This is enqueue() in  \n",
    "                    # C++ STL \n",
    "    return min_index \n",
    "  \n",
    "# Moves given minimum element to  \n",
    "# rear of queue  \n",
    "def insertMinToRear(q, min_index): \n",
    "    min_val = None\n",
    "    n = q.qsize() \n",
    "    for i in range(n): \n",
    "        curr = q.queue[0]  \n",
    "        q.get() \n",
    "        if (i != min_index):  \n",
    "            q.put(curr)  \n",
    "        else: \n",
    "            min_val = curr \n",
    "    q.put(min_val) \n",
    "  \n",
    "def sortQueue(q): \n",
    "    for i in range(1, q.qsize() + 1): \n",
    "        min_index = minIndex(q, q.qsize() - i)  \n",
    "        insertMinToRear(q, min_index) \n",
    "  \n",
    "# Driver code  \n",
    "if __name__ == '__main__': \n",
    "    arr = [30, 11, 15, 4]\n",
    "    q = Queue() \n",
    "    for i in arr:\n",
    "        q.put(i) \n",
    "      \n",
    "    # Sort queue  \n",
    "    sortQueue(q)  \n",
    "      \n",
    "    # Print sorted queue  \n",
    "    while (q.empty() == False): \n",
    "        print(q.queue[0], end = \" \")  \n",
    "        q.get() "
   ]
  },
  {
   "cell_type": "code",
   "execution_count": 15,
   "id": "eb576f14",
   "metadata": {},
   "outputs": [
    {
     "name": "stdout",
     "output_type": "stream",
     "text": [
      "Now playing: Song 3\n",
      "Now playing: Song 2\n",
      "Now playing: Song 1\n"
     ]
    }
   ],
   "source": [
    "##6)Write a program that simulates a playlist using a linked list.\n",
    "class Node:\n",
    "    def __init__(self, data):\n",
    "        self.data = data\n",
    "        self.next = None\n",
    "\n",
    "class Playlist:\n",
    "    def __init__(self):\n",
    "        self.head = None\n",
    "\n",
    "    def add_song(self, song):\n",
    "        new_song = Node(song)\n",
    "        new_song.next = self.head\n",
    "        self.head = new_song\n",
    "\n",
    "    def play_playlist(self):\n",
    "        current = self.head\n",
    "        while current:\n",
    "            print(\"Now playing:\", current.data)\n",
    "            current = current.next\n",
    "\n",
    "# Example usage:\n",
    "playlist = Playlist()\n",
    "playlist.add_song(\"Song 1\")\n",
    "playlist.add_song(\"Song 2\")\n",
    "playlist.add_song(\"Song 3\")\n",
    "playlist.play_playlist()"
   ]
  },
  {
   "cell_type": "code",
   "execution_count": 17,
   "id": "6fc117cc",
   "metadata": {},
   "outputs": [
    {
     "name": "stdout",
     "output_type": "stream",
     "text": [
      "Is the expression '{[()]}' balanced? True\n",
      "Is the expression '{[()]' balanced? False\n"
     ]
    }
   ],
   "source": [
    "##7)Create a function that checks if a string has balanced symbols using stacks and queues.\n",
    "def is_balanced_symbols(expression):\n",
    "    stack = []\n",
    "    opening_brackets = \"({[\"\n",
    "    closing_brackets = \")}]\"\n",
    "\n",
    "    for char in expression:\n",
    "        if char in opening_brackets:\n",
    "            stack.append(char)\n",
    "        elif char in closing_brackets:\n",
    "            if not stack or opening_brackets[closing_brackets.index(char)] != stack.pop():\n",
    "                return False\n",
    "\n",
    "    return not stack\n",
    "\n",
    "# Example usage:\n",
    "balanced_expression = \"{[()]}\"\n",
    "print(f\"Is the expression '{balanced_expression}' balanced?\", is_balanced_symbols(balanced_expression))\n",
    "\n",
    "unbalanced_expression = \"{[()]\"\n",
    "print(f\"Is the expression '{unbalanced_expression}' balanced?\", is_balanced_symbols(unbalanced_expression))"
   ]
  },
  {
   "cell_type": "code",
   "execution_count": 33,
   "id": "fe257c3b",
   "metadata": {},
   "outputs": [
    {
     "name": "stdout",
     "output_type": "stream",
     "text": [
      "Customer 1 has joined the queue.\n",
      "Customer 2 has joined the queue.\n",
      "Customer 1 is being served.\n",
      "Customer 2 is being served.\n",
      "No customers in the queue.\n"
     ]
    }
   ],
   "source": [
    "##8)Implement a customer service simulation using queues.\n",
    "from queue import Queue\n",
    "\n",
    "class CustomerServiceSimulation:\n",
    "    def __init__(self):\n",
    "        self.queue = Queue()\n",
    "\n",
    "    def enqueue_customer(self, customer):\n",
    "        self.queue.put(customer)\n",
    "        print(f\"Customer {customer} has joined the queue.\")\n",
    "\n",
    "    def process_customer(self):\n",
    "        if not self.queue.empty():\n",
    "            customer = self.queue.get()\n",
    "            print(f\"Customer {customer} is being served.\")\n",
    "        else:\n",
    "            print(\"No customers in the queue.\")\n",
    "\n",
    "# Example usage:\n",
    "service_simulation = CustomerServiceSimulation()\n",
    "service_simulation.enqueue_customer(1)\n",
    "service_simulation.enqueue_customer(2)\n",
    "service_simulation.process_customer()\n",
    "service_simulation.process_customer()\n",
    "service_simulation.process_customer()"
   ]
  },
  {
   "cell_type": "code",
   "execution_count": 22,
   "id": "d9eaf946",
   "metadata": {},
   "outputs": [
    {
     "name": "stdout",
     "output_type": "stream",
     "text": [
      "Merged Sorted List:\n",
      "1 -> 2 -> 3 -> 4 -> 5 -> 6 -> None\n"
     ]
    }
   ],
   "source": [
    "##9)Write a method to merge two sorted linked lists into one sorted linked list.\n",
    "class Node:\n",
    "    def __init__(self, data):\n",
    "        self.data = data\n",
    "        self.next = None\n",
    "\n",
    "def merge_sorted_lists(list1, list2):\n",
    "    dummy = Node(0)\n",
    "    current = dummy\n",
    "\n",
    "    while list1 and list2:\n",
    "        if list1.data < list2.data:\n",
    "            current.next = list1\n",
    "            list1 = list1.next\n",
    "        else:\n",
    "            current.next = list2\n",
    "            list2 = list2.next\n",
    "        current = current.next\n",
    "\n",
    "    if list1:\n",
    "        current.next = list1\n",
    "    if list2:\n",
    "        current.next = list2\n",
    "\n",
    "    return dummy.next\n",
    "\n",
    "# Example usage:\n",
    "def print_linked_list(head):\n",
    "    current = head\n",
    "    while current:\n",
    "        print(current.data, end=\" -> \")\n",
    "        current = current.next\n",
    "    print(\"None\")\n",
    "\n",
    "list1 = Node(1)\n",
    "list1.next = Node(3)\n",
    "list1.next.next = Node(5)\n",
    "\n",
    "list2 = Node(2)\n",
    "list2.next = Node(4)\n",
    "list2.next.next = Node(6)\n",
    "\n",
    "merged_list = merge_sorted_lists(list1, list2)\n",
    "print(\"Merged Sorted List:\")\n",
    "print_linked_list(merged_list)"
   ]
  },
  {
   "cell_type": "code",
   "execution_count": 23,
   "id": "b83e12df",
   "metadata": {},
   "outputs": [
    {
     "name": "stdout",
     "output_type": "stream",
     "text": [
      "Linked list after removing every 2th node:\n",
      "4 -> 5 -> None\n"
     ]
    }
   ],
   "source": [
    "##10)Create a function that removes every Nth node from a linked list.\n",
    "class Node:\n",
    "    def __init__(self, data):\n",
    "        self.data = data\n",
    "        self.next = None\n",
    "\n",
    "def remove_nth_node(head, n):\n",
    "    if not head or n <= 0:\n",
    "        return head\n",
    "\n",
    "    dummy = Node(0)\n",
    "    dummy.next = head\n",
    "    slow = fast = dummy\n",
    "\n",
    "    for _ in range(n):\n",
    "        if not fast.next:\n",
    "            return head\n",
    "        fast = fast.next\n",
    "\n",
    "    while fast.next:\n",
    "        slow.next = slow.next.next\n",
    "        fast = fast.next\n",
    "\n",
    "    return dummy.next\n",
    "\n",
    "# Example usage:\n",
    "def print_linked_list(head):\n",
    "    current = head\n",
    "    while current:\n",
    "        print(current.data, end=\" -> \")\n",
    "        current = current.next\n",
    "    print(\"None\")\n",
    "\n",
    "linked_list = Node(1)\n",
    "linked_list.next = Node(2)\n",
    "linked_list.next.next = Node(3)\n",
    "linked_list.next.next.next = Node(4)\n",
    "linked_list.next.next.next.next = Node(5)\n",
    "\n",
    "n = 2\n",
    "updated_linked_list = remove_nth_node(linked_list, n)\n",
    "print(f\"Linked list after removing every {n}th node:\")\n",
    "print_linked_list(updated_linked_list)\n"
   ]
  },
  {
   "cell_type": "markdown",
   "id": "d2284f64",
   "metadata": {},
   "source": [
    "Challenges"
   ]
  },
  {
   "cell_type": "code",
   "execution_count": 39,
   "id": "1c26d6b1",
   "metadata": {},
   "outputs": [
    {
     "name": "stdout",
     "output_type": "stream",
     "text": [
      "Initial Configuration:\n",
      "Tower 1: [3, 2, 1]\n",
      "Tower 2: []\n",
      "Tower 3: []\n",
      "\n",
      "Solving Tower of Hanoi:\n",
      "Move disk 1 from Tower 1 to Tower 3\n",
      "Move disk 2 from Tower 1 to Tower 2\n",
      "Move disk 1 from Tower 3 to Tower 2\n",
      "Move disk 3 from Tower 1 to Tower 3\n",
      "Move disk 1 from Tower 2 to Tower 1\n",
      "Move disk 2 from Tower 2 to Tower 3\n",
      "Move disk 1 from Tower 1 to Tower 3\n"
     ]
    }
   ],
   "source": [
    "##1)Write a program to solve the Tower of Hanoi problem using stacks.\n",
    "class TowerOfHanoi:\n",
    "    def __init__(self, num_disks):\n",
    "        self.num_disks = num_disks\n",
    "        self.towers = [[] for _ in range(3)]\n",
    "\n",
    "    def tower_of_hanoi(self, n, source, auxiliary, target):\n",
    "        if n > 0:\n",
    "            # Move n-1 disks from source to auxiliary peg using target peg\n",
    "            self.tower_of_hanoi(n - 1, source, target, auxiliary)\n",
    "            \n",
    "            # Move the nth disk from source to target peg\n",
    "            disk = self.towers[source].pop()\n",
    "            self.towers[target].append(disk)\n",
    "            print(f\"Move disk {disk} from Tower {source + 1} to Tower {target + 1}\")\n",
    "\n",
    "            # Move n-1 disks from auxiliary to target peg using source peg\n",
    "            self.tower_of_hanoi(n - 1, auxiliary, source, target)\n",
    "\n",
    "    def solve(self):\n",
    "        for i in range(self.num_disks, 0, -1):\n",
    "            self.towers[0].append(i)\n",
    "\n",
    "        print(\"Initial Configuration:\")\n",
    "        for i in range(3):\n",
    "            print(f\"Tower {i + 1}: {self.towers[i]}\")\n",
    "\n",
    "        print(\"\\nSolving Tower of Hanoi:\")\n",
    "        self.tower_of_hanoi(self.num_disks, 0, 1, 2)\n",
    "\n",
    "# Example usage:\n",
    "tower_of_hanoi = TowerOfHanoi(3)\n",
    "tower_of_hanoi.solve()"
   ]
  },
  {
   "cell_type": "code",
   "execution_count": 40,
   "id": "db250c04",
   "metadata": {},
   "outputs": [
    {
     "name": "stdout",
     "output_type": "stream",
     "text": [
      "False\n",
      "True\n"
     ]
    }
   ],
   "source": [
    "##2)Implement a function to compare two strings without using built-in string comparison methods.\n",
    "def compare_strings(str1, str2):\n",
    "    len1, len2 = len(str1), len(str2)\n",
    "    \n",
    "    if len1 != len2:\n",
    "        return False\n",
    "\n",
    "    for i in range(len1):\n",
    "        if str1[i] != str2[i]:\n",
    "            return False\n",
    "\n",
    "    return True\n",
    "\n",
    "# Example usage:\n",
    "string1 = \"hello\"\n",
    "string2 = \"world\"\n",
    "string3 = \"hello\"\n",
    "\n",
    "print(compare_strings(string1, string2))  # Output: False\n",
    "print(compare_strings(string1, string3))  # Output: True"
   ]
  },
  {
   "cell_type": "code",
   "execution_count": 44,
   "id": "5cb741d8",
   "metadata": {},
   "outputs": [
    {
     "name": "stdout",
     "output_type": "stream",
     "text": [
      "abcd^e-fgh*+^*+i-\n"
     ]
    }
   ],
   "source": [
    "##3)Create a program to convert infix expressions to postfix using stacks.\n",
    "# Python program to convert infix expression to postfix \n",
    "  \n",
    "# Class to convert the expression \n",
    "class Conversion: \n",
    "      \n",
    "    # Constructor to initialize the class variables \n",
    "    def __init__(self, capacity): \n",
    "        self.top = -1 \n",
    "        self.capacity = capacity \n",
    "        # This array is used a stack  \n",
    "        self.array = [] \n",
    "        # Precedence setting \n",
    "        self.output = [] \n",
    "        self.precedence = {'+':1, '-':1, '*':2, '/':2, '^':3} \n",
    "      \n",
    "    # check if the stack is empty \n",
    "    def isEmpty(self): \n",
    "        return True if self.top == -1 else False\n",
    "      \n",
    "    # Return the value of the top of the stack \n",
    "    def peek(self): \n",
    "        return self.array[-1] \n",
    "      \n",
    "    # Pop the element from the stack \n",
    "    def pop(self): \n",
    "        if not self.isEmpty(): \n",
    "            self.top -= 1\n",
    "            return self.array.pop() \n",
    "        else: \n",
    "            return \"$\"\n",
    "      \n",
    "    # Push the element to the stack \n",
    "    def push(self, op): \n",
    "        self.top += 1\n",
    "        self.array.append(op)  \n",
    "  \n",
    "    # A utility function to check is the given character \n",
    "    # is operand  \n",
    "    def isOperand(self, ch): \n",
    "        return ch.isalpha() \n",
    "  \n",
    "    # Check if the precedence of operator is strictly \n",
    "    # less than top of stack or not \n",
    "    def notGreater(self, i): \n",
    "        try: \n",
    "            a = self.precedence[i] \n",
    "            b = self.precedence[self.peek()] \n",
    "            return True if a  <= b else False\n",
    "        except KeyError:  \n",
    "            return False\n",
    "              \n",
    "    # The main function that converts given infix expression \n",
    "    # to postfix expression \n",
    "    def infixToPostfix(self, exp): \n",
    "          \n",
    "        # Iterate over the expression for conversion \n",
    "        for i in exp: \n",
    "            # If the character is an operand,  \n",
    "            # add it to output \n",
    "            if self.isOperand(i): \n",
    "                self.output.append(i) \n",
    "              \n",
    "            # If the character is an '(', push it to stack \n",
    "            elif i  == '(': \n",
    "                self.push(i) \n",
    "  \n",
    "            # If the scanned character is an ')', pop and  \n",
    "            # output from the stack until and '(' is found \n",
    "            elif i == ')': \n",
    "                while( (not self.isEmpty()) and self.peek() != '('): \n",
    "                    a = self.pop() \n",
    "                    self.output.append(a) \n",
    "                if (not self.isEmpty() and self.peek() != '('): \n",
    "                    return -1\n",
    "                else: \n",
    "                    self.pop() \n",
    "  \n",
    "            # An operator is encountered \n",
    "            else: \n",
    "                while(not self.isEmpty() and self.notGreater(i)): \n",
    "                    self.output.append(self.pop()) \n",
    "                self.push(i) \n",
    "  \n",
    "        # pop all the operator from the stack \n",
    "        while not self.isEmpty(): \n",
    "            self.output.append(self.pop()) \n",
    "  \n",
    "        print(\"\".join(self.output) )\n",
    "  \n",
    "# Driver program to test above function \n",
    "exp = \"a+b*(c^d-e)^(f+g*h)-i\"\n",
    "obj = Conversion(len(exp)) \n",
    "obj.infixToPostfix(exp)"
   ]
  },
  {
   "cell_type": "code",
   "execution_count": 45,
   "id": "9ac5e72b",
   "metadata": {},
   "outputs": [
    {
     "name": "stdout",
     "output_type": "stream",
     "text": [
      "Original Array: [4, 5, 2, 10, 8]\n",
      "Next Greater Elements: [5, 10, 10, -1, -1]\n"
     ]
    }
   ],
   "source": [
    "##4)Write a method to find the next greater element for each element in an array using a stack.\n",
    "def next_greater_element(arr):\n",
    "    stack = []\n",
    "    result = {}\n",
    "\n",
    "    for num in arr:\n",
    "        while stack and num > stack[-1]:\n",
    "            result[stack.pop()] = num\n",
    "        stack.append(num)\n",
    "\n",
    "    while stack:\n",
    "        result[stack.pop()] = -1\n",
    "\n",
    "    return [result[num] for num in arr]\n",
    "\n",
    "# Example usage:\n",
    "arr = [4, 5, 2, 10, 8]\n",
    "result = next_greater_element(arr)\n",
    "print(\"Original Array:\", arr)\n",
    "print(\"Next Greater Elements:\", result)"
   ]
  },
  {
   "cell_type": "code",
   "execution_count": 49,
   "id": "5932f351",
   "metadata": {},
   "outputs": [
    {
     "name": "stdout",
     "output_type": "stream",
     "text": [
      "Dequeued: 1\n",
      "Dequeued: 2\n",
      "Dequeued: 3\n",
      "Dequeued: None\n"
     ]
    }
   ],
   "source": [
    "##5)Implement a queue using two stacks.\n",
    "class QueueUsingStacks:\n",
    "    def __init__(self):\n",
    "        self.stack1 = []\n",
    "        self.stack2 = []\n",
    "\n",
    "    def enqueue(self, item):\n",
    "        self.stack1.append(item)\n",
    "\n",
    "    def dequeue(self):\n",
    "        if not self.stack2:\n",
    "            while self.stack1:\n",
    "                self.stack2.append(self.stack1.pop())\n",
    "        if not self.stack2:\n",
    "            return None\n",
    "        return self.stack2.pop()\n",
    "\n",
    "# Example usage:\n",
    "queue = QueueUsingStacks()\n",
    "queue.enqueue(1)\n",
    "queue.enqueue(2)\n",
    "queue.enqueue(3)\n",
    "\n",
    "print(\"Dequeued:\", queue.dequeue())\n",
    "print(\"Dequeued:\", queue.dequeue())\n",
    "print(\"Dequeued:\", queue.dequeue())\n",
    "print(\"Dequeued:\", queue.dequeue())"
   ]
  },
  {
   "cell_type": "code",
   "execution_count": 51,
   "id": "875b6d17",
   "metadata": {},
   "outputs": [
    {
     "name": "stdout",
     "output_type": "stream",
     "text": [
      "Is Palindrome: True\n",
      "Is Palindrome: False\n"
     ]
    }
   ],
   "source": [
    "##6)Create a program that checks if a linked list is a palindrome.\n",
    "class ListNode:\n",
    "    def __init__(self, value=0, next=None):\n",
    "        self.value = value\n",
    "        self.next = next\n",
    "\n",
    "def is_palindrome_linked_list(head):\n",
    "    values = []\n",
    "    current = head\n",
    "\n",
    "    while current:\n",
    "        values.append(current.value)\n",
    "        current = current.next\n",
    "\n",
    "    return values == values[::-1]\n",
    "\n",
    "# Example usage:\n",
    "linked_list = ListNode(1, ListNode(2, ListNode(2, ListNode(1))))\n",
    "print(\"Is Palindrome:\", is_palindrome_linked_list(linked_list))\n",
    "linked_list2 = ListNode(1, ListNode(2, ListNode(1, ListNode(2))))\n",
    "print(\"Is Palindrome:\", is_palindrome_linked_list(linked_list2))"
   ]
  },
  {
   "cell_type": "code",
   "execution_count": 52,
   "id": "116261bf",
   "metadata": {},
   "outputs": [
    {
     "name": "stdout",
     "output_type": "stream",
     "text": [
      "Merged Sorted Array: [1, 2, 3, 4, 5, 6, 7, 8, 9]\n"
     ]
    }
   ],
   "source": [
    "##7)Write a function to merge K sorted arrays into one sorted array.\n",
    "import heapq\n",
    "\n",
    "def merge_k_sorted_arrays(arrays):\n",
    "    result = []\n",
    "    heap = []\n",
    "\n",
    "    for i, array in enumerate(arrays):\n",
    "        if array:\n",
    "            heapq.heappush(heap, (array[0], i, 0))\n",
    "\n",
    "    while heap:\n",
    "        val, i, j = heapq.heappop(heap)\n",
    "        result.append(val)\n",
    "        if j + 1 < len(arrays[i]):\n",
    "            heapq.heappush(heap, (arrays[i][j + 1], i, j + 1))\n",
    "\n",
    "    return result\n",
    "\n",
    "# Example usage:\n",
    "k_sorted_arrays = [[1, 4, 7], [2, 5, 8], [3, 6, 9]]\n",
    "merged_array = merge_k_sorted_arrays(k_sorted_arrays)\n",
    "print(\"Merged Sorted Array:\", merged_array)"
   ]
  },
  {
   "cell_type": "code",
   "execution_count": 53,
   "id": "971d0693",
   "metadata": {},
   "outputs": [
    {
     "name": "stdout",
     "output_type": "stream",
     "text": [
      "Maximum Element: 10\n",
      "Maximum Element after pop: 5\n"
     ]
    }
   ],
   "source": [
    "##8)Implement a method to implement a stack with find-maximum functionality.\n",
    "class MaxStack:\n",
    "    def __init__(self):\n",
    "        self.stack = []\n",
    "        self.max_stack = []\n",
    "\n",
    "    def push(self, item):\n",
    "        self.stack.append(item)\n",
    "        if not self.max_stack or item >= self.max_stack[-1]:\n",
    "            self.max_stack.append(item)\n",
    "\n",
    "    def pop(self):\n",
    "        if not self.stack:\n",
    "            return None\n",
    "        item = self.stack.pop()\n",
    "        if item == self.max_stack[-1]:\n",
    "            self.max_stack.pop()\n",
    "        return item\n",
    "\n",
    "    def find_max(self):\n",
    "        if not self.max_stack:\n",
    "            return None\n",
    "        return self.max_stack[-1]\n",
    "\n",
    "# Example usage:\n",
    "stack = MaxStack()\n",
    "stack.push(3)\n",
    "stack.push(5)\n",
    "stack.push(2)\n",
    "stack.push(10)\n",
    "print(\"Maximum Element:\", stack.find_max())\n",
    "stack.pop()\n",
    "print(\"Maximum Element after pop:\", stack.find_max())"
   ]
  },
  {
   "cell_type": "code",
   "execution_count": 54,
   "id": "2d4ea85e",
   "metadata": {},
   "outputs": [
    {
     "name": "stdout",
     "output_type": "stream",
     "text": [
      "Dequeued from Queue 0: 1\n",
      "Dequeued from Queue 1: 2\n",
      "Dequeued from Queue 2: 3\n"
     ]
    }
   ],
   "source": [
    "##9)Create a function to efficiently implement k queues in a single array.\n",
    "class KQueuesInArray:\n",
    "    def __init__(self, k, size):\n",
    "        self.k = k\n",
    "        self.size = size\n",
    "        self.array = [0] * size\n",
    "        self.front = [-1] * k\n",
    "        self.rear = [-1] * k\n",
    "        self.next_index = [i + 1 for i in range(size)]\n",
    "        self.next_index[-1] = -1\n",
    "        self.free = 0\n",
    "\n",
    "    def is_full(self):\n",
    "        return self.free == -1\n",
    "\n",
    "    def is_empty(self, queue_num):\n",
    "        return self.front[queue_num] == -1\n",
    "\n",
    "    def enqueue(self, queue_num, item):\n",
    "        if self.is_full():\n",
    "            print(\"Queue is full\")\n",
    "            return\n",
    "\n",
    "        insert_at = self.free\n",
    "        self.free = self.next_index[self.free]\n",
    "\n",
    "        if self.is_empty(queue_num):\n",
    "            self.front[queue_num] = insert_at\n",
    "        else:\n",
    "            self.next_index[self.rear[queue_num]] = insert_at\n",
    "\n",
    "        self.rear[queue_num] = insert_at\n",
    "        self.array[insert_at] = item\n",
    "\n",
    "    def dequeue(self, queue_num):\n",
    "        if self.is_empty(queue_num):\n",
    "            print(\"Queue is empty\")\n",
    "            return None\n",
    "\n",
    "        front_index = self.front[queue_num]\n",
    "        self.front[queue_num] = self.next_index[front_index]\n",
    "        self.next_index[front_index] = self.free\n",
    "        self.free = front_index\n",
    "\n",
    "        return self.array[front_index]\n",
    "\n",
    "# Example usage:\n",
    "k_queues = KQueuesInArray(3, 6)\n",
    "k_queues.enqueue(0, 1)\n",
    "k_queues.enqueue(1, 2)\n",
    "k_queues.enqueue(2, 3)\n",
    "k_queues.enqueue(0, 4)\n",
    "k_queues.enqueue(1, 5)\n",
    "k_queues.enqueue(2, 6)\n",
    "\n",
    "print(\"Dequeued from Queue 0:\", k_queues.dequeue(0))\n",
    "print(\"Dequeued from Queue 1:\", k_queues.dequeue(1))\n",
    "print(\"Dequeued from Queue 2:\", k_queues.dequeue(2))"
   ]
  },
  {
   "cell_type": "code",
   "execution_count": 55,
   "id": "4d8c6194",
   "metadata": {},
   "outputs": [
    {
     "name": "stdout",
     "output_type": "stream",
     "text": [
      "Linked List after removing the cycle:\n",
      "1 -> 2 -> None\n"
     ]
    }
   ],
   "source": [
    "##10)Write a program to detect and remove a cycle in a linked list.\n",
    "class ListNode:\n",
    "    def __init__(self, value=0, next=None):\n",
    "        self.value = value\n",
    "        self.next = next\n",
    "\n",
    "def detect_and_remove_cycle(head):\n",
    "    slow = fast = head\n",
    "\n",
    "    # Detect cycle using Floyd's Tortoise and Hare algorithm\n",
    "    while fast and fast.next:\n",
    "        slow = slow.next\n",
    "        fast = fast.next.next\n",
    "\n",
    "        if slow == fast:\n",
    "            break\n",
    "\n",
    "    # If there is no cycle, return None\n",
    "    if not fast or not fast.next:\n",
    "        return None\n",
    "\n",
    "    # Find the start of the cycle\n",
    "    slow = head\n",
    "    while slow != fast:\n",
    "        slow = slow.next\n",
    "        fast = fast.next\n",
    "\n",
    "    # Remove the cycle\n",
    "    prev = None\n",
    "    while slow.next != fast:\n",
    "        prev = fast\n",
    "        fast = fast.next\n",
    "\n",
    "    prev.next = None\n",
    "\n",
    "# Example usage:\n",
    "linked_list = ListNode(1)\n",
    "linked_list.next = ListNode(2)\n",
    "linked_list.next.next = ListNode(3)\n",
    "linked_list.next.next.next = ListNode(4)\n",
    "linked_list.next.next.next.next = linked_list.next  # Creating a cycle\n",
    "\n",
    "detect_and_remove_cycle(linked_list)\n",
    "\n",
    "# Check if the cycle is removed\n",
    "def print_linked_list(head):\n",
    "    current = head\n",
    "    while current:\n",
    "        print(current.value, end=\" -> \")\n",
    "        current = current.next\n",
    "    print(\"None\")\n",
    "\n",
    "print(\"Linked List after removing the cycle:\")\n",
    "print_linked_list(linked_list)"
   ]
  }
 ],
 "metadata": {
  "kernelspec": {
   "display_name": "Python 3 (ipykernel)",
   "language": "python",
   "name": "python3"
  },
  "language_info": {
   "codemirror_mode": {
    "name": "ipython",
    "version": 3
   },
   "file_extension": ".py",
   "mimetype": "text/x-python",
   "name": "python",
   "nbconvert_exporter": "python",
   "pygments_lexer": "ipython3",
   "version": "3.7.9"
  },
  "varInspector": {
   "cols": {
    "lenName": 16,
    "lenType": 16,
    "lenVar": 40
   },
   "kernels_config": {
    "python": {
     "delete_cmd_postfix": "",
     "delete_cmd_prefix": "del ",
     "library": "var_list.py",
     "varRefreshCmd": "print(var_dic_list())"
    },
    "r": {
     "delete_cmd_postfix": ") ",
     "delete_cmd_prefix": "rm(",
     "library": "var_list.r",
     "varRefreshCmd": "cat(var_dic_list()) "
    }
   },
   "types_to_exclude": [
    "module",
    "function",
    "builtin_function_or_method",
    "instance",
    "_Feature"
   ],
   "window_display": false
  }
 },
 "nbformat": 4,
 "nbformat_minor": 5
}
