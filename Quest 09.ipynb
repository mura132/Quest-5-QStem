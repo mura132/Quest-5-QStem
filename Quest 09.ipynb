{
 "cells": [
  {
   "cell_type": "markdown",
   "id": "1d062fdf",
   "metadata": {},
   "source": [
    "Basic Probability\n",
    "1 Calculate the probability of rolling a 4 on a standard six-sided die.\n",
    "1/6\n",
    "2 What is the probability of flipping a coin and getting heads?\n",
    "1/2\n",
    "3 If a bag contains 3 red balls and 2 green balls, what is the probability of picking a red ball?\n",
    "3/5\n",
    "4 Calculate the probability of drawing an Ace from a standard deck of playing cards.\n",
    "1/9 or 1/13\n",
    "5 What is the probability of not drawing a face card (Jack, Queen, King) from a deck of cards?\n",
    "2/3 or 10/13"
   ]
  },
  {
   "cell_type": "markdown",
   "id": "f4763b78",
   "metadata": {},
   "source": [
    "Probability with Combinations and Permutations\n",
    "1 In how many ways can you arrange 5 books on a shelf?\n",
    "120\n",
    "2 How many different ways can a committee of 3 be formed from a group of 10 people?\n",
    "120\n",
    "3 What is the probability of getting all numbers different when rolling three dice?\n",
    "120/216\n",
    "4 Calculate the probability of drawing 2 Queens and 1 Ace in a three-card hand from a standard deck.\n",
    "6/5525\n",
    "5 In a lottery where 6 numbers are drawn from 60, what is the probability of guessing exactly 3 numbers correctly?\n",
    "2075/227563"
   ]
  },
  {
   "cell_type": "markdown",
   "id": "2c019200",
   "metadata": {},
   "source": [
    "Conditional Probability\n",
    "1 If a family has two children and one of them is a girl, what is the probability that both children are girls?\n",
    "1/2\n",
    "2 What is the probability of drawing a heart given that the drawn card is red?\n",
    "1/2\n",
    "3 A bag contains 5 blue, 7 green, and 3 red balls. If a green ball is drawn and put aside, what is the probability of drawing a blue ball next?\n",
    "5/14\n",
    "4 Calculate the probability of testing positive for a disease given a 5% false positive rate and a 0.1% infection rate in the population.\n",
    "0.001/0.05095\n",
    "5 If 40% of a town's population are men and 30% of the town's population have a car, what is the probability that a randomly chosen person is a man who owns a car?\n",
    "0.12"
   ]
  },
  {
   "cell_type": "markdown",
   "id": "d3c0c35d",
   "metadata": {},
   "source": [
    "Bayes' Theorem\n",
    "1 Use Bayes' theorem to update the probability of having a disease based on a positive test result.\n",
    "0.0196\n",
    "2 A bag contains 4 red and 6 black balls. Another bag contains 10 red and 5 black balls.  A ball is drawn from the first bag and placed unseen in the second bag. What is the probability of drawing a red ball from the second bag?\n",
    "5/8\n",
    "3 Calculate the probability of a hypothesis being true given observed data and prior probabilities.\n",
    "0.6316\n",
    "4 A software has a bug detection rate of 95%. If a program has a bug, what is the probability that it is detected by the software?\n",
    "0.5\n",
    "5 Given that a family has two children with at least one boy born on a Tuesday, what is the probability that they have two boys?\n",
    "7/19"
   ]
  },
  {
   "cell_type": "markdown",
   "id": "bc15b0a4",
   "metadata": {},
   "source": [
    "Descriptive Statistics\n",
    "1 Calculate the mean, median, and mode of a given data set: [4, 8, 6, 9, 5, 2, 7].\n",
    "Mean: (4+8+6+9+5+2+7)/7=41/7≈5.86\n",
    "Median 6 \n",
    "Mode None \n",
    "2 What is the range of the dataset [5, 2, 8, 9, 12, 3]?\n",
    "10\n",
    "3 Calculate the variance and standard deviation of the numbers [3, 7, 8, 5, 12].\n",
    "Variance 46/5\n",
    "Standard Deviation sqrt(46/5)\n",
    "4 Create a frequency distribution table for the data set [1, 2, 2, 3, 3, 3, 4, 4, 4, 4].\n",
    "1 & 1 \\\n",
    "2 & 2 \\\n",
    "3 & 3 \\\n",
    "4 & 4 \\\n",
    "5 Given a dataset, construct a box plot and identify any outliers.\n",
    "Minimum: 1\n",
    "First Quartile (Q1): 2 (median of the lower half)\n",
    "Median (Q2): 3\n",
    "Third Quartile (Q3): 4 (median of the upper half)\n",
    "Maximum: 4"
   ]
  },
  {
   "cell_type": "markdown",
   "id": "a64f3682",
   "metadata": {},
   "source": [
    "Probability Distributions\n",
    "1 Plot the probability mass function of a binomial distribution with n=10 and p=0.5.\n",
    "P(X=k)=(kn​)×pk ×(1−p)n−k\n",
    "2 What is the expected value of a standard normal distribution?\n",
    "The expected value (mean) of a standard normal distribution is 0. The standard normal distribution has a mean (μ) of 0 and a standard deviation (σ) of 1.\n",
    "3 Calculate the probability of obtaining 7 or more heads in 10 flips of a fair coin.\n",
    "P(X≥7)=P(X=7)+P(X=8)+P(X=9)+P(X=10)\n",
    "4 Find the probability that a random variable with a Poisson distribution with λ=4 is equal to 2.\n",
    "P(X=k)= k!e−λ ⋅λk​\n",
    "For the given question with λ=4, calculate P(X=2) using the formula.\n",
    "5 Draw the probability density function of an exponential distribution with a mean of 1.\n",
    "f(x;μ)= μ1​ e−μx​\n",
    "For the given question with a mean of 1, substitute μ=1 into the formula and plot the resulting function over the range of x."
   ]
  },
  {
   "cell_type": "markdown",
   "id": "f33a4d67",
   "metadata": {},
   "source": [
    "Hypothesis Testing\n",
    "1 Perform a hypothesis test to determine if a coin is biased, given 55 heads in 100 flips.\n",
    "To perform a hypothesis test for a biased coin, you can use a binomial test. The null hypothesis (H0) is that the coin is unbiased (p=0.5), and the alternative hypothesis (H1) is that the coin is biased (\n",
    "p≠0.5). You can then use the binomial probability formula to calculate the probability of obtaining 55 or more heads in 100 flips under the assumption that the coin is unbiased. If this probability (p-value) is very low, you may reject the null hypothesis in favor of the alternative.\n",
    "2 Calculate the p-value for a t-test given a sample mean, population mean, standard deviation, and sample size.\n",
    "To calculate the p-value for a t-test, you need the sample mean (x), the population mean (μ), the standard deviation (σ), and the sample size (n). The formula for the t-statistic is given by:\n",
    "t=n​σ​xˉ−μ​n\n",
    "Once you calculate the t-statistic, you can use a t-distribution table or statistical software to find the corresponding p-value.\n",
    "3 Test the hypothesis that the average weight of a population is different from 150 lbs, given a sample with mean 155 lbs and standard deviation 15 lbs.\n",
    "To test the hypothesis that the average weight of a population is different from 150 lbs, you can use a two-sample t-test. The null hypothesis (H0) is that the average weight is equal to 150 lbs (=μ=150), and the alternative hypothesis (H1) is that the average weight is different from 150 lbs (μ≠150). Use the sample mean, sample standard deviation, and sample size to calculate the t-statistic and find the corresponding p-value.\n",
    "4 What is a Type I error in the context of hypothesis testing?\n",
    "In the context of hypothesis testing, a Type I error occurs when you reject a true null hypothesis. It is also known as a false positive or alpha error. The probability of making a Type I error is denoted by the significance level (α).\n",
    "5 How is a Type II error different from a Type I error in hypothesis testing?\n",
    "A Type II error occurs when you fail to reject a false null hypothesis. It is also known as a false negative or beta error. The probability of making a Type II error is denoted by (β). The power of a test is 1−β, and it represents the probability of correctly rejecting a false null hypothesis. Type I and Type II errors are inversely related, and minimizing one increases the other."
   ]
  },
  {
   "cell_type": "markdown",
   "id": "86084114",
   "metadata": {},
   "source": [
    "Correlation and Regression\n",
    "1 Calculate the correlation coefficient between two variables X and Y given their data points.\n",
    "To calculate the correlation coefficient between two variables X and Y, you can use the Pearson correlation coefficient formula:\n",
    "r= ∑(Xi​−Xˉ)2 ∑(Yi​−Yˉ)2​∑(Xi​−Xˉ)(Yi​−Yˉ)​\n",
    "Where X and Y are the means of X and Y, respectively. This formula calculates the strength and direction of the linear relationship between the two variables.\n",
    "2 Perform a simple linear regression analysis on a given dataset.\n",
    "Simple linear regression involves fitting a linear equation (Y = mx + b) to the data. The slope (m) and intercept (b) can be calculated using the following formulas: m= n(∑X2)−(∑X)2n(∑XY)−(∑X)(∑Y)​ \n",
    "b= n∑Y−m(∑X)​ where n is the number of data points.\n",
    "3 Interpret the slope of the regression line in the context of the problem.\n",
    "The slope (m) of the regression line represents the change in the dependent variable (Y) for a one-unit change in the independent variable (X). In other words, it quantifies the rate at which Y changes with respect to changes in X.\n",
    "4 Calculate the coefficient of determination (R²) for a given set of data.\n",
    "The coefficient of determination (R²) is a measure of how well the regression line explains the variability in the dependent variable. It is calculated as:\n",
    "R2=1−∑(Yi​−Yˉ)2∑(Yi​−Y^i​)2​\n",
    "Where Y^i​ is the predicted value of Y based on the regression line.\n",
    "5 Use a regression model to predict the value of Y given a new value of X.\n",
    "To predict the value of Y given a new value of X using the regression model, use the equation:Y^=mx+b\n",
    "Plug in the new value of X into this equation, where m is the slope and b is the intercept obtained from the regression analysis. The result will be the predicted value of Y."
   ]
  },
  {
   "cell_type": "markdown",
   "id": "3567611c",
   "metadata": {},
   "source": [
    "Sampling and Data Collection\n",
    "1 What is a random sample and why is it important in statistics?\n",
    "A random sample is a subset of a population where each member of the population has an equal chance of being selected. It is important in statistics because it helps ensure that the sample is representative of the entire population, reducing the risk of selection bias and allowing for generalization of findings from the sample to the larger population.\n",
    "2 Design a survey to estimate the average amount of time students spend on homework.\n",
    "Survey Design:\n",
    "Objective: To estimate the average amount of time students spend on homework.\n",
    "Sampling Method: Use stratified random sampling based on grade levels. Randomly select a certain number of students from each grade level.\n",
    "Survey Questions:\n",
    "How many hours per week do you spend on homework?\n",
    "How often do you feel overwhelmed by the amount of homework?\n",
    "What factors contribute to the time you spend on homework?\n",
    "Are there specific subjects that require more time than others?\n",
    "3 Explain the difference between a population and a sample.\n",
    "Population vs. Sample:\n",
    "Population: The entire group of individuals or instances about whom information is desired.\n",
    "Sample: A subset of the population that is selected for study. It is crucial to ensure that the sample is representative of the population to make valid inferences.\n",
    "4 Discuss the importance of sample size in statistical significance.\n",
    "Importance of Sample Size:\n",
    "A larger sample size generally provides more accurate and reliable estimates of population parameters.\n",
    "Larger samples reduce the margin of error and increase the precision of statistical analyses.\n",
    "Small samples may not be representative, leading to unreliable conclusions.\n",
    "5 What is sampling bias and how can it be avoided?\n",
    "Sampling Bias and Avoidance:\n",
    "Sampling Bias: Occurs when certain members of the population are more or less likely to be included in the sample, leading to a non-representative sample.\n",
    "Avoidance:\n",
    "Use random sampling methods to ensure every individual in the population has an equal chance of being selected.\n",
    "Employ stratified sampling to account for different subgroups within the population.\n",
    "Be cautious of self-selection bias, where individuals volunteer to participate in the sample, potentially introducing bias.\n",
    "Minimize non-response bias by encouraging participation from a diverse group."
   ]
  },
  {
   "cell_type": "markdown",
   "id": "c208cbdf",
   "metadata": {},
   "source": [
    "Advanced Problems\n",
    "1 Calculate the margin of error for a confidence interval given the standard deviation and sample size.\n",
    "Margin of Error Calculation:\n",
    "The margin of error (MOE) for a confidence interval is given by the formula:\n",
    "MOE=Z×n​σ​\n",
    "2 Determine the sample size needed for a survey to achieve a specific margin of error.\n",
    "Sample Size Calculation for Margin of Error:\n",
    "To find the required sample size for a survey with a specific margin of error, use the formula:\n",
    "n=(EZ×σ​)2\n",
    "3 Use the central limit theorem to explain the distribution of sample means.\n",
    "Central Limit Theorem (CLT):\n",
    "The Central Limit Theorem states that, as the sample size increases, the distribution of sample means approaches a normal distribution, regardless of the shape of the original population distribution.\n",
    "It is essential for making inferences about population parameters using sample statistics, particularly when the sample size is large.\n",
    "4 Conduct an ANOVA test to determine if there are significant differences between three groups' means.\n",
    "ANOVA Test:\n",
    "\n",
    "Analysis of Variance (ANOVA) is used to test if there are statistically significant differences between the means of three or more independent groups.\n",
    "The null hypothesis (H0) is that all group means are equal, while the alternative hypothesis (H1) is that at least one group mean is different.\n",
    "ANOVA produces an F-statistic, and the decision is based on comparing it to a critical value or using a p-value.\n",
    "5 Explain the concept of power in hypothesis testing and how it relates to sample size.\n",
    "Power in Hypothesis Testing:\n",
    "Power is the probability of correctly rejecting a false null hypothesis. It is influenced by factors such as effect size, significance level (α), and sample size.\n",
    "A larger sample size generally leads to higher power, increasing the ability to detect a true effect.\n",
    "Power is crucial in ensuring that a study has a high likelihood of detecting an existing effect when it is present. It is influenced by the balance between Type I and Type II errors."
   ]
  }
 ],
 "metadata": {
  "kernelspec": {
   "display_name": "Python 3 (ipykernel)",
   "language": "python",
   "name": "python3"
  },
  "language_info": {
   "codemirror_mode": {
    "name": "ipython",
    "version": 3
   },
   "file_extension": ".py",
   "mimetype": "text/x-python",
   "name": "python",
   "nbconvert_exporter": "python",
   "pygments_lexer": "ipython3",
   "version": "3.7.9"
  },
  "varInspector": {
   "cols": {
    "lenName": 16,
    "lenType": 16,
    "lenVar": 40
   },
   "kernels_config": {
    "python": {
     "delete_cmd_postfix": "",
     "delete_cmd_prefix": "del ",
     "library": "var_list.py",
     "varRefreshCmd": "print(var_dic_list())"
    },
    "r": {
     "delete_cmd_postfix": ") ",
     "delete_cmd_prefix": "rm(",
     "library": "var_list.r",
     "varRefreshCmd": "cat(var_dic_list()) "
    }
   },
   "types_to_exclude": [
    "module",
    "function",
    "builtin_function_or_method",
    "instance",
    "_Feature"
   ],
   "window_display": false
  }
 },
 "nbformat": 4,
 "nbformat_minor": 5
}
