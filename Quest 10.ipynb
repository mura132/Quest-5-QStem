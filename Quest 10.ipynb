{
 "cells": [
  {
   "cell_type": "markdown",
   "id": "a1b584e5",
   "metadata": {},
   "source": [
    "Basics of Matrices\n",
    "1 Write a program to add two matrices.\n",
    "2 Implement matrix subtraction for two given matrices.\n",
    "3 Create a function to perform scalar multiplication on a matrix.\n",
    "4 Write a method to transpose a matrix.\n",
    "5 Implement a program to check if two matrices are equal."
   ]
  },
  {
   "cell_type": "code",
   "execution_count": 1,
   "id": "df2b768b",
   "metadata": {},
   "outputs": [
    {
     "name": "stdout",
     "output_type": "stream",
     "text": [
      "Resulting matrix:\n",
      "10 10 10\n",
      "10 10 10\n",
      "10 10 10\n"
     ]
    }
   ],
   "source": [
    "# Function to add two matrices\n",
    "def add_matrices(mat1, mat2):\n",
    "    # Initialize a matrix for the result with the same dimensions as the input matrices\n",
    "    result = [[0 for row in range(len(mat1[0]))] for col in range(len(mat1))]\n",
    "\n",
    "    # Iterate through the rows and columns of the matrices\n",
    "    for i in range(len(mat1)):\n",
    "        for j in range(len(mat1[0])):\n",
    "            # Add the corresponding elements from the input matrices\n",
    "            result[i][j] = mat1[i][j] + mat2[i][j]\n",
    "\n",
    "    return result\n",
    "\n",
    "\n",
    "# Function to display a matrix\n",
    "def display_matrix(mat):\n",
    "    for row in mat:\n",
    "        print(\" \".join(str(element) for element in row))\n",
    "\n",
    "\n",
    "# Example usage:\n",
    "\n",
    "# Define two matrices to add\n",
    "matrix1 = [[1, 2, 3], [4, 5, 6], [7, 8, 9]]\n",
    "matrix2 = [[9, 8, 7], [6, 5, 4], [3, 2, 1]]\n",
    "\n",
    "# Call the add_matrices function with the matrices\n",
    "result = add_matrices(matrix1, matrix2)\n",
    "\n",
    "# Display the resulting matrix\n",
    "print(\"Resulting matrix:\")\n",
    "display_matrix(result)"
   ]
  },
  {
   "cell_type": "code",
   "execution_count": 2,
   "id": "640ba4c0",
   "metadata": {},
   "outputs": [
    {
     "name": "stdout",
     "output_type": "stream",
     "text": [
      "[[-6, -6, -6], [-6, -6, -6]]\n"
     ]
    }
   ],
   "source": [
    "def matrix_subtraction(matrix1, matrix2):\n",
    "    # Check if the matrices have the same dimensions\n",
    "    if len(matrix1) != len(matrix2) or len(matrix1[0]) != len(matrix2[0]):\n",
    "        raise ValueError(\"Matrices must have the same dimensions\")\n",
    "\n",
    "    # Subtract the matrices element-wise\n",
    "    result = [[matrix1[i][j] - matrix2[i][j] for j in range(len(matrix1[0]))] for i in range(len(matrix1))]\n",
    "\n",
    "    return result\n",
    "matrix1 = [[1, 2, 3], [4, 5, 6]]\n",
    "matrix2 = [[7, 8, 9], [10, 11, 12]]\n",
    "\n",
    "result = matrix_subtraction(matrix1, matrix2)\n",
    "print(result)"
   ]
  },
  {
   "cell_type": "code",
   "execution_count": 3,
   "id": "3ec57ff9",
   "metadata": {},
   "outputs": [
    {
     "name": "stdout",
     "output_type": "stream",
     "text": [
      "[[ 5 10 15]\n",
      " [20 25 30]\n",
      " [35 40 45]]\n"
     ]
    }
   ],
   "source": [
    "import numpy as np\n",
    "\n",
    "def scalar_multiplication(matrix, scalar):\n",
    "    return np.multiply(matrix, scalar)\n",
    "\n",
    "matrix = np.array([[1, 2, 3], [4, 5, 6], [7, 8, 9]])\n",
    "scalar = 5\n",
    "\n",
    "result = scalar_multiplication(matrix, scalar)\n",
    "print(result)"
   ]
  },
  {
   "cell_type": "code",
   "execution_count": 5,
   "id": "165ac4d8",
   "metadata": {},
   "outputs": [
    {
     "name": "stdout",
     "output_type": "stream",
     "text": [
      "[[1, 3, 5], [2, 4, 6]]\n"
     ]
    }
   ],
   "source": [
    "def transpose_matrix(matrix):\n",
    "    # Create a new matrix with the same dimensions\n",
    "    transposed_matrix = [[0 for _ in range(len(matrix))] for _ in range(len(matrix[0]))]\n",
    "\n",
    "    # Iterate through the rows and columns of the original matrix\n",
    "    for i in range(len(matrix)):\n",
    "        for j in range(len(matrix[i])):\n",
    "            # Place the element at matrix[i][j] into transposed_matrix[j][i]\n",
    "            transposed_matrix[j][i] = matrix[i][j]\n",
    "\n",
    "    return transposed_matrix\n",
    "\n",
    "matrix = [[1, 2], [3, 4], [5, 6]]\n",
    "transposed_matrix = transpose_matrix(matrix)\n",
    "print(transposed_matrix)  "
   ]
  },
  {
   "cell_type": "code",
   "execution_count": 6,
   "id": "0bad14b2",
   "metadata": {},
   "outputs": [
    {
     "name": "stdout",
     "output_type": "stream",
     "text": [
      "True\n",
      "False\n"
     ]
    }
   ],
   "source": [
    "def are_matrices_equal(matrix1, matrix2):\n",
    "    # check if the matrices have the same dimensions\n",
    "    if len(matrix1) != len(matrix2) or any(len(row1) != len(row2) for row1, row2 in zip(matrix1, matrix2)):\n",
    "        return False\n",
    "    # check if all elements are equal\n",
    "    return all(all(x == y for x, y in zip(row1, row2)) for row1, row2 in zip(matrix1, matrix2))\n",
    "\n",
    "matrix1 = [[1, 1, 1, 1], [2, 2, 2, 2], [3, 3, 3, 3], [4, 4, 4, 4]]\n",
    "matrix2 = [[1, 1, 1, 1], [2, 2, 2, 2], [3, 3, 3, 3], [4, 4, 4, 4]]\n",
    "matrix3 = [[1, 1, 1, 1], [2, 2, 2, 2], [3, 3, 3, 3], [4, 4, 4, 3]]\n",
    "\n",
    "print(are_matrices_equal(matrix1, matrix2)) # True\n",
    "print(are_matrices_equal(matrix1, matrix3)) # False"
   ]
  },
  {
   "cell_type": "markdown",
   "id": "eec9aa66",
   "metadata": {},
   "source": [
    "Matrix Multiplication\n",
    "1 Write a program to multiply two matrices.\n",
    "2 Implement an element-wise multiplication of two matrices.\n",
    "3 Create a function to multiply a matrix by a vector.\n",
    "4 Develop a method to calculate the dot product of two vectors.\n",
    "5 Implement a program for matrix-vector multiplication."
   ]
  },
  {
   "cell_type": "code",
   "execution_count": 7,
   "id": "27b0065a",
   "metadata": {},
   "outputs": [
    {
     "name": "stdout",
     "output_type": "stream",
     "text": [
      "[55, 65, 49, 5]\n",
      "[57, 68, 72, 12]\n",
      "[90, 107, 111, 21]\n"
     ]
    }
   ],
   "source": [
    "def multiply_matrices(matrix1, matrix2):\n",
    "    result = [[0 for _ in range(len(matrix2[0]))] for _ in range(len(matrix1))]\n",
    "\n",
    "    for i in range(len(matrix1)):\n",
    "        for j in range(len(matrix2[0])):\n",
    "            for k in range(len(matrix2)):\n",
    "                result[i][j] += matrix1[i][k] * matrix2[k][j]\n",
    "\n",
    "    return result\n",
    "\n",
    "X = [[1, 7, 3],\n",
    "     [3, 5, 6],\n",
    "     [6, 8, 9]]\n",
    "\n",
    "Y = [[1, 1, 1, 2],\n",
    "     [6, 7, 3, 0],\n",
    "     [4, 5, 9, 1]]\n",
    "\n",
    "result = multiply_matrices(X, Y)\n",
    "\n",
    "for row in result:\n",
    "    print(row)"
   ]
  },
  {
   "cell_type": "code",
   "execution_count": 8,
   "id": "34dd3b37",
   "metadata": {},
   "outputs": [
    {
     "name": "stdout",
     "output_type": "stream",
     "text": [
      "[[ 7 16 27]\n",
      " [40 55 72]]\n"
     ]
    }
   ],
   "source": [
    "import numpy as np\n",
    "\n",
    "# define two matrices\n",
    "matrix1 = np.array([[1, 2, 3], [4, 5, 6]])\n",
    "matrix2 = np.array([[7, 8, 9], [10, 11, 12]])\n",
    "\n",
    "# perform element-wise multiplication\n",
    "result = matrix1 * matrix2\n",
    "\n",
    "# print the result\n",
    "print(result)"
   ]
  },
  {
   "cell_type": "code",
   "execution_count": 9,
   "id": "a68c0739",
   "metadata": {},
   "outputs": [
    {
     "name": "stdout",
     "output_type": "stream",
     "text": [
      "[17 39]\n"
     ]
    }
   ],
   "source": [
    "import numpy as np\n",
    "\n",
    "def matvec_mult(A, x):\n",
    "    return np.dot(A, x)\n",
    "A = np.array([[1, 2], [3, 4]])\n",
    "x = np.array([5, 6])\n",
    "\n",
    "y = matvec_mult(A, x)\n",
    "print(y)"
   ]
  },
  {
   "cell_type": "code",
   "execution_count": 10,
   "id": "92e90593",
   "metadata": {},
   "outputs": [
    {
     "name": "stdout",
     "output_type": "stream",
     "text": [
      "32\n"
     ]
    }
   ],
   "source": [
    "import numpy as np\n",
    "\n",
    "x = np.array([1, 2, 3])\n",
    "y = np.array([4, 5, 6])\n",
    "\n",
    "dot_product = np.dot(x, y)\n",
    "print(dot_product)  "
   ]
  },
  {
   "cell_type": "code",
   "execution_count": 12,
   "id": "b6b2e7d3",
   "metadata": {},
   "outputs": [
    {
     "name": "stdout",
     "output_type": "stream",
     "text": [
      "[ 30  70 110 150]\n"
     ]
    }
   ],
   "source": [
    "import numpy as np\n",
    "\n",
    "# Define a 4 x 4 matrix and a vector of length 4\n",
    "matrix = np.array([[1, 2, 3, 4],\n",
    "                   [5, 6, 7, 8],\n",
    "                   [9, 10, 11, 12],\n",
    "                   [13, 14, 15, 16]])\n",
    "vector = np.array([1, 2, 3, 4])\n",
    "\n",
    "# Use the np.matmul() function to perform matrix-vector multiplication\n",
    "result = np.matmul(matrix, vector)\n",
    "\n",
    "# Print the result\n",
    "print(result)"
   ]
  },
  {
   "cell_type": "markdown",
   "id": "757e652c",
   "metadata": {},
   "source": [
    "Determinants and Inverses\n",
    "1 Write a function to calculate the determinant of a 2x2 matrix.\n",
    "2 Implement a program to find the determinant of a 3x3 matrix.\n",
    "3 Create a function to compute the inverse of a 2x2 matrix.\n",
    "4 Write a method to find the inverse of a 3x3 matrix.\n",
    "5 Implement a program to verify if a matrix is invertible."
   ]
  },
  {
   "cell_type": "code",
   "execution_count": 13,
   "id": "bb835b4a",
   "metadata": {},
   "outputs": [
    {
     "name": "stdout",
     "output_type": "stream",
     "text": [
      "-2\n"
     ]
    }
   ],
   "source": [
    "def determinant_2x2(matrix):\n",
    "    a, b, c, d = matrix\n",
    "    return a*d - b*c\n",
    "\n",
    "matrix = [1, 2, 3, 4]\n",
    "print(determinant_2x2(matrix))"
   ]
  },
  {
   "cell_type": "code",
   "execution_count": 14,
   "id": "c7eadbbb",
   "metadata": {},
   "outputs": [
    {
     "name": "stdout",
     "output_type": "stream",
     "text": [
      "Determinant of the matrix is :  -5\n"
     ]
    }
   ],
   "source": [
    "def determinant(matrix):\n",
    "    a, b, c = matrix[0]\n",
    "    d, e, f = matrix[1]\n",
    "    g, h, i = matrix[2]\n",
    "\n",
    "    return a*(e*i - f*h) - b*(d*i - f*g) + c*(d*h - e*g)\n",
    "\n",
    "matrix = [[1, 2, 3], [4, 5, 1], [2, 3, 4]]\n",
    "print(\"Determinant of the matrix is : \", determinant(matrix))"
   ]
  },
  {
   "cell_type": "code",
   "execution_count": 16,
   "id": "55875f73",
   "metadata": {},
   "outputs": [
    {
     "name": "stdout",
     "output_type": "stream",
     "text": [
      "Original Matrix:\n",
      "[4, 3]\n",
      "[2, 1]\n",
      "\n",
      "Inverse Matrix:\n",
      "[-0.5, 1.5]\n",
      "[1.0, -2.0]\n"
     ]
    }
   ],
   "source": [
    "def inverse_2x2(matrix):\n",
    "    a, b, c, d = matrix[0][0], matrix[0][1], matrix[1][0], matrix[1][1]\n",
    "    determinant = a * d - b * c\n",
    "\n",
    "    if determinant == 0:\n",
    "        raise ValueError(\"Matrix is singular, and the inverse does not exist.\")\n",
    "\n",
    "    inverse_matrix = [[d / determinant, -b / determinant],\n",
    "                      [-c / determinant, a / determinant]]\n",
    "\n",
    "    return inverse_matrix\n",
    "\n",
    "# Example usage:\n",
    "matrix_to_inverse = [[4, 3],\n",
    "                    [2, 1]]\n",
    "\n",
    "try:\n",
    "    inverse_result = inverse_2x2(matrix_to_inverse)\n",
    "    print(\"Original Matrix:\")\n",
    "    for row in matrix_to_inverse:\n",
    "        print(row)\n",
    "\n",
    "    print(\"\\nInverse Matrix:\")\n",
    "    for row in inverse_result:\n",
    "        print(row)\n",
    "\n",
    "except ValueError as e:\n",
    "    print(e)"
   ]
  },
  {
   "cell_type": "code",
   "execution_count": 17,
   "id": "283d7c13",
   "metadata": {},
   "outputs": [
    {
     "name": "stdout",
     "output_type": "stream",
     "text": [
      "Original Matrix:\n",
      "[4, 2, 3]\n",
      "[1, 5, 6]\n",
      "[7, 8, 9]\n",
      "\n",
      "Inverse Matrix:\n",
      "[0.1111111111111111, -0.2222222222222222, 0.1111111111111111]\n",
      "[-1.2222222222222223, -0.5555555555555556, 0.7777777777777778]\n",
      "[1.0, 0.6666666666666666, -0.6666666666666666]\n"
     ]
    }
   ],
   "source": [
    "def inverse_3x3(matrix):\n",
    "    a, b, c = matrix[0]\n",
    "    d, e, f = matrix[1]\n",
    "    g, h, i = matrix[2]\n",
    "\n",
    "    det_A = a * (e * i - f * h) - b * (d * i - f * g) + c * (d * h - e * g)\n",
    "\n",
    "    if det_A == 0:\n",
    "        raise ValueError(\"Matrix is singular, and the inverse does not exist.\")\n",
    "\n",
    "    inverse_matrix = [\n",
    "        [(e * i - f * h) / det_A, (c * h - b * i) / det_A, (b * f - c * e) / det_A],\n",
    "        [(f * g - d * i) / det_A, (a * i - c * g) / det_A, (c * d - a * f) / det_A],\n",
    "        [(d * h - e * g) / det_A, (b * g - a * h) / det_A, (a * e - b * d) / det_A]\n",
    "    ]\n",
    "\n",
    "    return inverse_matrix\n",
    "\n",
    "# Example usage:\n",
    "matrix_to_inverse = [\n",
    "    [4, 2, 3],\n",
    "    [1, 5, 6],\n",
    "    [7, 8, 9]\n",
    "]\n",
    "\n",
    "try:\n",
    "    inverse_result = inverse_3x3(matrix_to_inverse)\n",
    "    print(\"Original Matrix:\")\n",
    "    for row in matrix_to_inverse:\n",
    "        print(row)\n",
    "\n",
    "    print(\"\\nInverse Matrix:\")\n",
    "    for row in inverse_result:\n",
    "        print(row)\n",
    "\n",
    "except ValueError as e:\n",
    "    print(e)"
   ]
  },
  {
   "cell_type": "code",
   "execution_count": 18,
   "id": "224c38ef",
   "metadata": {},
   "outputs": [
    {
     "name": "stdout",
     "output_type": "stream",
     "text": [
      "The matrix is invertible.\n"
     ]
    }
   ],
   "source": [
    "import numpy as np\n",
    "\n",
    "def is_invertible(matrix):\n",
    "    try:\n",
    "        det = np.linalg.det(matrix)\n",
    "        return det != 0\n",
    "    except np.linalg.LinAlgError:\n",
    "        return False\n",
    "\n",
    "# Example usage:\n",
    "matrix_to_check = np.array([[1, 2],\n",
    "                            [3, 4]])\n",
    "\n",
    "if is_invertible(matrix_to_check):\n",
    "    print(\"The matrix is invertible.\")\n",
    "else:\n",
    "    print(\"The matrix is not invertible.\")"
   ]
  },
  {
   "cell_type": "markdown",
   "id": "d278d386",
   "metadata": {},
   "source": [
    "Systems of Linear Equations\n",
    "1 Solve a system of two linear equations using matrices.\n",
    "2 Implement a method to solve a system of three linear equations.\n",
    "3 Create a program to use matrix inversion to solve a system of equations.\n",
    "4 Write a function to check if a system of equations has no solution, one solution, or infinitely many solutions.\n",
    "5 Implement the Gaussian elimination method to solve a system of linear equations."
   ]
  },
  {
   "cell_type": "code",
   "execution_count": 19,
   "id": "02714b2c",
   "metadata": {},
   "outputs": [
    {
     "name": "stdout",
     "output_type": "stream",
     "text": [
      "Solution:\n",
      "[ 7. -2.]\n"
     ]
    }
   ],
   "source": [
    "import numpy as np\n",
    "\n",
    "# Coefficient matrix\n",
    "A = np.array([[2, 3],\n",
    "              [4, 5]])\n",
    "\n",
    "# Right-hand side vector\n",
    "B = np.array([8, 18])\n",
    "\n",
    "# Solve the system of equations\n",
    "solution = np.linalg.solve(A, B)\n",
    "\n",
    "print(\"Solution:\")\n",
    "print(solution)"
   ]
  },
  {
   "cell_type": "code",
   "execution_count": 20,
   "id": "1c48e306",
   "metadata": {},
   "outputs": [
    {
     "name": "stdout",
     "output_type": "stream",
     "text": [
      "Solution:\n",
      "[ 4.8 -2.2 -5. ]\n"
     ]
    }
   ],
   "source": [
    "import numpy as np\n",
    "\n",
    "def solve_three_equations(A, B):\n",
    "    solution = np.linalg.solve(A, B)\n",
    "    return solution\n",
    "\n",
    "# Example usage\n",
    "A_three_equations = np.array([[2, 3, -1],\n",
    "                              [4, 1, 2],\n",
    "                              [1, -1, 1]])\n",
    "\n",
    "B_three_equations = np.array([8, 7, 2])\n",
    "\n",
    "solution_three_equations = solve_three_equations(A_three_equations, B_three_equations)\n",
    "\n",
    "print(\"Solution:\")\n",
    "print(solution_three_equations)\n"
   ]
  },
  {
   "cell_type": "code",
   "execution_count": 21,
   "id": "1e6655c4",
   "metadata": {},
   "outputs": [
    {
     "name": "stdout",
     "output_type": "stream",
     "text": [
      "Solution:\n",
      "[ 7. -2.]\n"
     ]
    }
   ],
   "source": [
    "import numpy as np\n",
    "\n",
    "def solve_with_inverse(A, B):\n",
    "    A_inv = np.linalg.inv(A)\n",
    "    solution = np.dot(A_inv, B)\n",
    "    return solution\n",
    "\n",
    "# Example usage\n",
    "A_inverse = np.array([[2, 3],\n",
    "                      [4, 5]])\n",
    "\n",
    "B_inverse = np.array([8, 18])\n",
    "\n",
    "solution_inverse = solve_with_inverse(A_inverse, B_inverse)\n",
    "\n",
    "print(\"Solution:\")\n",
    "print(solution_inverse)"
   ]
  },
  {
   "cell_type": "code",
   "execution_count": 22,
   "id": "9b024957",
   "metadata": {},
   "outputs": [
    {
     "name": "stdout",
     "output_type": "stream",
     "text": [
      "Solution:\n",
      "No solution\n"
     ]
    }
   ],
   "source": [
    "import numpy as np\n",
    "\n",
    "def check_solution(A, B):\n",
    "    if np.linalg.matrix_rank(A) == np.linalg.matrix_rank(np.column_stack((A, B))):\n",
    "        if np.linalg.matrix_rank(A) == A.shape[1]:\n",
    "            return \"One solution\"\n",
    "        else:\n",
    "            return \"Infinitely many solutions\"\n",
    "    else:\n",
    "        return \"No solution\"\n",
    "\n",
    "# Example usage\n",
    "A_check = np.array([[2, 3],\n",
    "                    [4, 6]])\n",
    "\n",
    "B_check = np.array([8, 18])\n",
    "\n",
    "solution_check = check_solution(A_check, B_check)\n",
    "\n",
    "print(\"Solution:\")\n",
    "print(solution_check)\n"
   ]
  },
  {
   "cell_type": "code",
   "execution_count": 25,
   "id": "166075ae",
   "metadata": {},
   "outputs": [
    {
     "name": "stdout",
     "output_type": "stream",
     "text": [
      "[3.0, 1.0000000000000002, 1.9999999999999998]\n"
     ]
    }
   ],
   "source": [
    "def gaussian_elimination(a, b):\n",
    "    n = len(a)\n",
    "    for i in range(n):\n",
    "        # Find pivot for row i\n",
    "        pivot = a[i][i]\n",
    "        for j in range(i+1, n):\n",
    "            if abs(a[j][i]) > abs(pivot):\n",
    "                a[i], a[j] = a[j], a[i]\n",
    "                b[i], b[j] = b[j], b[i]\n",
    "                pivot = a[i][i]\n",
    "\n",
    "        # Divide each element in row i by pivot\n",
    "        for j in range(i, n):\n",
    "            a[i][j] /= pivot\n",
    "        b[i] /= pivot\n",
    "\n",
    "        # Subtract multiples of row i from other rows to make other elements in column i zero\n",
    "        for j in range(i+1, n):\n",
    "            factor = a[j][i]\n",
    "            for k in range(i, n):\n",
    "                a[j][k] -= a[i][k] * factor\n",
    "            b[j] -= b[i] * factor\n",
    "\n",
    "    # Back substitution to find solution\n",
    "    x = [0] * n\n",
    "    for i in range(n-1, -1, -1):\n",
    "        x[i] = b[i]\n",
    "        for j in range(i+1, n):\n",
    "            x[i] -= a[i][j] * x[j]\n",
    "\n",
    "    return x\n",
    "\n",
    "# Example usage\n",
    "a = [[3, 2, -4], [2, 3, 3], [5, -3, 1]]\n",
    "b = [3, 15, 14]\n",
    "x = gaussian_elimination(a, b)\n",
    "print(x) "
   ]
  },
  {
   "cell_type": "markdown",
   "id": "67f1049b",
   "metadata": {},
   "source": [
    "Eigenvalues and Eigenvectors\n",
    "1 Write a program to find the eigenvalues of a 2x2 matrix.\n",
    "2 Implement a method to compute the eigenvectors of a 2x2 matrix.\n",
    "3 Create a function to check if a given vector is an eigenvector of a matrix.\n",
    "4 Develop a program to find the characteristic polynomial of a matrix.\n",
    "5 Implement a procedure to demonstrate the power method for finding dominant eigenvalues."
   ]
  },
  {
   "cell_type": "code",
   "execution_count": 26,
   "id": "d82ccb1f",
   "metadata": {},
   "outputs": [
    {
     "name": "stdout",
     "output_type": "stream",
     "text": [
      "Eigenvalues: [3. 2.]\n"
     ]
    }
   ],
   "source": [
    "import numpy as np\n",
    "\n",
    "def find_eigenvalues(matrix):\n",
    "    # Ensure the input is a NumPy array\n",
    "    matrix = np.array(matrix)\n",
    "    \n",
    "    # Check if the matrix is 2x2\n",
    "    if matrix.shape != (2, 2):\n",
    "        raise ValueError(\"Input matrix must be a 2x2 matrix\")\n",
    "    \n",
    "    # Calculate the eigenvalues\n",
    "    eigenvalues = np.linalg.eigvals(matrix)\n",
    "    \n",
    "    return eigenvalues\n",
    "\n",
    "matrix = np.array([[4, -2],\n",
    "                   [1,  1]])\n",
    "\n",
    "eigenvalues = find_eigenvalues(matrix)\n",
    "\n",
    "print(\"Eigenvalues:\", eigenvalues)"
   ]
  },
  {
   "cell_type": "code",
   "execution_count": 27,
   "id": "2037c395",
   "metadata": {},
   "outputs": [
    {
     "name": "stdout",
     "output_type": "stream",
     "text": [
      "Eigenvectors:\n",
      "[[0.89442719 0.70710678]\n",
      " [0.4472136  0.70710678]]\n"
     ]
    }
   ],
   "source": [
    "import numpy as np\n",
    "\n",
    "def find_eigenvectors(matrix):\n",
    "    # Ensure the input is a NumPy array\n",
    "    matrix = np.array(matrix)\n",
    "    \n",
    "    # Check if the matrix is 2x2\n",
    "    if matrix.shape != (2, 2):\n",
    "        raise ValueError(\"Input matrix must be a 2x2 matrix\")\n",
    "    \n",
    "    # Calculate the eigenvalues and eigenvectors\n",
    "    eigenvalues, eigenvectors = np.linalg.eig(matrix)\n",
    "    \n",
    "    return eigenvectors\n",
    "\n",
    "matrix = np.array([[4, -2],\n",
    "                   [1,  1]])\n",
    "\n",
    "eigenvectors = find_eigenvectors(matrix)\n",
    "\n",
    "print(\"Eigenvectors:\")\n",
    "print(eigenvectors)"
   ]
  },
  {
   "cell_type": "code",
   "execution_count": 28,
   "id": "91251717",
   "metadata": {},
   "outputs": [
    {
     "name": "stdout",
     "output_type": "stream",
     "text": [
      "The vector is not an eigenvector.\n"
     ]
    }
   ],
   "source": [
    "import numpy as np\n",
    "\n",
    "def is_eigenvector(matrix, eigenvector, eigenvalue, tolerance=1e-8):\n",
    "    # Ensure the input matrices and vectors are NumPy arrays\n",
    "    matrix = np.array(matrix)\n",
    "    eigenvector = np.array(eigenvector)\n",
    "    \n",
    "    # Check if the matrix is square\n",
    "    if matrix.shape[0] != matrix.shape[1]:\n",
    "        raise ValueError(\"Input matrix must be square\")\n",
    "    \n",
    "    # Check if the matrix and vector dimensions match\n",
    "    if matrix.shape[0] != len(eigenvector):\n",
    "        raise ValueError(\"Matrix and vector dimensions do not match\")\n",
    "    \n",
    "    # Check the eigenvector equation: Av = λv\n",
    "    lhs = np.dot(matrix, eigenvector)\n",
    "    rhs = eigenvalue * eigenvector\n",
    "    \n",
    "    # Check if the absolute difference between the left and right sides is small\n",
    "    if np.allclose(lhs, rhs, atol=tolerance):\n",
    "        return True\n",
    "    else:\n",
    "        return False\n",
    "\n",
    "matrix = np.array([[4, -2],\n",
    "                   [1,  1]])\n",
    "\n",
    "eigenvector = np.array([1, 2])\n",
    "eigenvalue = 3\n",
    "\n",
    "result = is_eigenvector(matrix, eigenvector, eigenvalue)\n",
    "\n",
    "if result:\n",
    "    print(\"The vector is an eigenvector.\")\n",
    "else:\n",
    "    print(\"The vector is not an eigenvector.\")"
   ]
  },
  {
   "cell_type": "code",
   "execution_count": 29,
   "id": "52c90f37",
   "metadata": {},
   "outputs": [
    {
     "name": "stdout",
     "output_type": "stream",
     "text": [
      "Characteristic Polynomial: 1.0 - 5.0 x**1 + 6.0 x**2\n"
     ]
    }
   ],
   "source": [
    "import numpy as np\n",
    "from numpy.polynomial import Polynomial\n",
    "from scipy.linalg import det\n",
    "\n",
    "def characteristic_polynomial(matrix):\n",
    "    # Ensure the input is a NumPy array\n",
    "    matrix = np.array(matrix)\n",
    "    \n",
    "    # Check if the matrix is square\n",
    "    if matrix.shape[0] != matrix.shape[1]:\n",
    "        raise ValueError(\"Input matrix must be square\")\n",
    "    \n",
    "    # Calculate the eigenvalues\n",
    "    eigenvalues = np.linalg.eigvals(matrix)\n",
    "    \n",
    "    # Construct the characteristic polynomial\n",
    "    poly_coeffs = [1]\n",
    "    for eigenvalue in eigenvalues:\n",
    "        # Compute the coefficients of the factor (x - λ)\n",
    "        poly_coeffs = np.convolve(poly_coeffs, [1, -eigenvalue])\n",
    "    \n",
    "    # Use numpy's Polynomial class to create a polynomial object\n",
    "    char_poly = Polynomial(poly_coeffs)\n",
    "    \n",
    "    return char_poly\n",
    "\n",
    "matrix = np.array([[4, -2],\n",
    "                   [1,  1]])\n",
    "\n",
    "char_poly = characteristic_polynomial(matrix)\n",
    "\n",
    "print(\"Characteristic Polynomial:\", char_poly)"
   ]
  },
  {
   "cell_type": "code",
   "execution_count": 30,
   "id": "be0c2939",
   "metadata": {},
   "outputs": [
    {
     "name": "stdout",
     "output_type": "stream",
     "text": [
      "Dominant Eigenvalue: 3.0005014027770764\n",
      "Dominant Eigenvector: [0.89447701 0.44711394]\n"
     ]
    }
   ],
   "source": [
    "import numpy as np\n",
    "\n",
    "def power_method(matrix, num_iterations=1000, tolerance=1e-8):\n",
    "    # Ensure the input is a NumPy array\n",
    "    matrix = np.array(matrix)\n",
    "    \n",
    "    # Check if the matrix is square\n",
    "    if matrix.shape[0] != matrix.shape[1]:\n",
    "        raise ValueError(\"Input matrix must be square\")\n",
    "    \n",
    "    # Generate a random initial vector\n",
    "    initial_vector = np.random.rand(matrix.shape[0])\n",
    "    \n",
    "    for iteration in range(num_iterations):\n",
    "        # Apply the matrix to the current vector\n",
    "        new_vector = np.dot(matrix, initial_vector)\n",
    "        \n",
    "        # Calculate the dominant eigenvalue estimate\n",
    "        eigenvalue_estimate = np.dot(new_vector, initial_vector) / np.dot(initial_vector, initial_vector)\n",
    "        \n",
    "        # Normalize the vector for the next iteration\n",
    "        initial_vector = new_vector / np.linalg.norm(new_vector)\n",
    "        \n",
    "        # Check for convergence\n",
    "        if np.abs(np.dot(new_vector, initial_vector) - eigenvalue_estimate) < tolerance:\n",
    "            break\n",
    "    \n",
    "    return eigenvalue_estimate, initial_vector\n",
    "\n",
    "matrix = np.array([[4, -2],\n",
    "                   [1,  1]])\n",
    "\n",
    "dominant_eigenvalue, dominant_eigenvector = power_method(matrix)\n",
    "\n",
    "print(\"Dominant Eigenvalue:\", dominant_eigenvalue)\n",
    "print(\"Dominant Eigenvector:\", dominant_eigenvector)"
   ]
  },
  {
   "cell_type": "markdown",
   "id": "72616649",
   "metadata": {},
   "source": [
    "Special Matrices and Properties\n",
    "1 Create a program to check if a matrix is symmetric.\n",
    "2 Implement a method to determine if a matrix is orthogonal.\n",
    "3 Write a function to check if a matrix is diagonal.\n",
    "4 Develop a program to identify if a matrix is a sparse matrix.\n",
    "5 Write a program to create an identity matrix of size n."
   ]
  },
  {
   "cell_type": "code",
   "execution_count": 31,
   "id": "7306ad54",
   "metadata": {},
   "outputs": [
    {
     "name": "stdout",
     "output_type": "stream",
     "text": [
      "The matrix is symmetric.\n",
      "The matrix is not symmetric.\n"
     ]
    }
   ],
   "source": [
    "import numpy as np\n",
    "\n",
    "def is_symmetric(matrix):\n",
    "    # Ensure the input is a NumPy array\n",
    "    matrix = np.array(matrix)\n",
    "    \n",
    "    # Check if the matrix is square\n",
    "    if matrix.shape[0] != matrix.shape[1]:\n",
    "        raise ValueError(\"Input matrix must be square\")\n",
    "    \n",
    "    # Check if the matrix is equal to its transpose\n",
    "    return np.array_equal(matrix, matrix.T)\n",
    "\n",
    "# Example usage:\n",
    "symmetric_matrix = np.array([[1, 2, 3],\n",
    "                             [2, 4, 5],\n",
    "                             [3, 5, 6]])\n",
    "\n",
    "non_symmetric_matrix = np.array([[1, 2, 3],\n",
    "                                 [4, 5, 6],\n",
    "                                 [7, 8, 9]])\n",
    "\n",
    "# Test cases\n",
    "if is_symmetric(symmetric_matrix):\n",
    "    print(\"The matrix is symmetric.\")\n",
    "else:\n",
    "    print(\"The matrix is not symmetric.\")\n",
    "\n",
    "if is_symmetric(non_symmetric_matrix):\n",
    "    print(\"The matrix is symmetric.\")\n",
    "else:\n",
    "    print(\"The matrix is not symmetric.\")"
   ]
  },
  {
   "cell_type": "code",
   "execution_count": 32,
   "id": "73d84d3e",
   "metadata": {},
   "outputs": [
    {
     "name": "stdout",
     "output_type": "stream",
     "text": [
      "The matrix is orthogonal.\n",
      "The matrix is not orthogonal.\n"
     ]
    }
   ],
   "source": [
    "import numpy as np\n",
    "\n",
    "def is_orthogonal(matrix, tolerance=1e-8):\n",
    "    # Ensure the input is a NumPy array\n",
    "    matrix = np.array(matrix)\n",
    "    \n",
    "    # Check if the matrix is square\n",
    "    if matrix.shape[0] != matrix.shape[1]:\n",
    "        raise ValueError(\"Input matrix must be square\")\n",
    "    \n",
    "    # Check if the matrix is orthogonal\n",
    "    identity_matrix = np.eye(matrix.shape[0])\n",
    "    product = np.dot(matrix, matrix.T)\n",
    "    \n",
    "    return np.allclose(product, identity_matrix, atol=tolerance)\n",
    "\n",
    "# Example usage:\n",
    "orthogonal_matrix = np.array([[1, 0],\n",
    "                              [0, -1]])\n",
    "\n",
    "non_orthogonal_matrix = np.array([[1, 2],\n",
    "                                  [3, 4]])\n",
    "\n",
    "# Test cases\n",
    "if is_orthogonal(orthogonal_matrix):\n",
    "    print(\"The matrix is orthogonal.\")\n",
    "else:\n",
    "    print(\"The matrix is not orthogonal.\")\n",
    "\n",
    "if is_orthogonal(non_orthogonal_matrix):\n",
    "    print(\"The matrix is orthogonal.\")\n",
    "else:\n",
    "    print(\"The matrix is not orthogonal.\")"
   ]
  },
  {
   "cell_type": "code",
   "execution_count": 33,
   "id": "9f7c0cc3",
   "metadata": {},
   "outputs": [
    {
     "name": "stdout",
     "output_type": "stream",
     "text": [
      "The matrix is diagonal.\n",
      "The matrix is not diagonal.\n"
     ]
    }
   ],
   "source": [
    "import numpy as np\n",
    "\n",
    "def is_diagonal(matrix, tolerance=1e-8):\n",
    "    # Ensure the input is a NumPy array\n",
    "    matrix = np.array(matrix)\n",
    "    \n",
    "    # Check if the matrix is square\n",
    "    if matrix.shape[0] != matrix.shape[1]:\n",
    "        raise ValueError(\"Input matrix must be square\")\n",
    "    \n",
    "    # Check if the matrix is diagonal\n",
    "    return np.allclose(matrix, np.diag(np.diagonal(matrix)), atol=tolerance)\n",
    "\n",
    "# Example usage:\n",
    "diagonal_matrix = np.array([[1, 0, 0],\n",
    "                            [0, 2, 0],\n",
    "                            [0, 0, 3]])\n",
    "\n",
    "non_diagonal_matrix = np.array([[1, 2, 3],\n",
    "                                [4, 5, 6],\n",
    "                                [7, 8, 9]])\n",
    "\n",
    "# Test cases\n",
    "if is_diagonal(diagonal_matrix):\n",
    "    print(\"The matrix is diagonal.\")\n",
    "else:\n",
    "    print(\"The matrix is not diagonal.\")\n",
    "\n",
    "if is_diagonal(non_diagonal_matrix):\n",
    "    print(\"The matrix is diagonal.\")\n",
    "else:\n",
    "    print(\"The matrix is not diagonal.\")"
   ]
  },
  {
   "cell_type": "code",
   "execution_count": 34,
   "id": "09ac8806",
   "metadata": {},
   "outputs": [
    {
     "name": "stdout",
     "output_type": "stream",
     "text": [
      "The matrix is sparse.\n",
      "The matrix is not sparse.\n"
     ]
    }
   ],
   "source": [
    "import numpy as np\n",
    "\n",
    "def is_sparse(matrix, sparsity_threshold=0.5):\n",
    "    # Ensure the input is a NumPy array\n",
    "    matrix = np.array(matrix)\n",
    "    \n",
    "    # Calculate the total number of elements\n",
    "    total_elements = matrix.size\n",
    "    \n",
    "    # Count the number of zero elements\n",
    "    zero_elements = np.count_nonzero(matrix == 0)\n",
    "    \n",
    "    # Calculate the sparsity ratio\n",
    "    sparsity_ratio = zero_elements / total_elements\n",
    "    \n",
    "    # Check if the matrix is sparse based on the threshold\n",
    "    return sparsity_ratio > sparsity_threshold\n",
    "\n",
    "# Example usage:\n",
    "sparse_matrix = np.array([[1, 0, 0],\n",
    "                          [0, 0, 0],\n",
    "                          [0, 0, 3]])\n",
    "\n",
    "dense_matrix = np.array([[1, 2, 3],\n",
    "                         [4, 5, 6],\n",
    "                         [7, 8, 9]])\n",
    "\n",
    "# Test cases\n",
    "if is_sparse(sparse_matrix):\n",
    "    print(\"The matrix is sparse.\")\n",
    "else:\n",
    "    print(\"The matrix is not sparse.\")\n",
    "\n",
    "if is_sparse(dense_matrix):\n",
    "    print(\"The matrix is sparse.\")\n",
    "else:\n",
    "    print(\"The matrix is not sparse.\")"
   ]
  },
  {
   "cell_type": "code",
   "execution_count": 35,
   "id": "c89f3212",
   "metadata": {},
   "outputs": [
    {
     "name": "stdout",
     "output_type": "stream",
     "text": [
      "Identity Matrix of size 4:\n",
      " [[1. 0. 0. 0.]\n",
      " [0. 1. 0. 0.]\n",
      " [0. 0. 1. 0.]\n",
      " [0. 0. 0. 1.]]\n"
     ]
    }
   ],
   "source": [
    "import numpy as np\n",
    "\n",
    "def create_identity_matrix(n):\n",
    "    # Check if n is a positive integer\n",
    "    if not isinstance(n, int) or n <= 0:\n",
    "        raise ValueError(\"n must be a positive integer\")\n",
    "\n",
    "    # Create the identity matrix using numpy\n",
    "    identity_matrix = np.eye(n)\n",
    "\n",
    "    return identity_matrix\n",
    "\n",
    "n = 4\n",
    "identity_matrix = create_identity_matrix(n)\n",
    "\n",
    "print(f\"Identity Matrix of size {n}:\\n\", identity_matrix)"
   ]
  },
  {
   "cell_type": "markdown",
   "id": "0c75cb8c",
   "metadata": {},
   "source": [
    "Matrix Decompositions\n",
    "1 Implement LU decomposition for a square matrix.\n",
    "2 Write a program for QR decomposition of a matrix.\n",
    "3 Create a function to perform singular value decomposition.\n",
    "4 Implement Cholesky decomposition for a symmetric positive-definite matrix.\n",
    "5 Write a method to find the rank of a matrix using its decomposition."
   ]
  },
  {
   "cell_type": "code",
   "execution_count": 36,
   "id": "ef44783a",
   "metadata": {},
   "outputs": [
    {
     "name": "stdout",
     "output_type": "stream",
     "text": [
      "Original Matrix:\n",
      "[[ 2 -1  0]\n",
      " [-1  2 -1]\n",
      " [ 0 -1  2]]\n",
      "\n",
      "Lower Triangular Matrix (L):\n",
      "[[ 1.          0.          0.        ]\n",
      " [-0.5         1.          0.        ]\n",
      " [ 0.         -0.66666667  1.        ]]\n",
      "\n",
      "Upper Triangular Matrix (U):\n",
      "[[ 2.         -1.          0.        ]\n",
      " [ 0.          1.5        -1.        ]\n",
      " [ 0.          0.          1.33333333]]\n"
     ]
    }
   ],
   "source": [
    "import numpy as np\n",
    "\n",
    "def lu_decomposition(matrix):\n",
    "    # Ensure the input is a NumPy array\n",
    "    matrix = np.array(matrix, dtype=float)\n",
    "    \n",
    "    # Check if the matrix is square\n",
    "    if matrix.shape[0] != matrix.shape[1]:\n",
    "        raise ValueError(\"Input matrix must be square\")\n",
    "    \n",
    "    n = matrix.shape[0]\n",
    "    \n",
    "    # Initialize matrices L and U\n",
    "    L = np.eye(n)\n",
    "    U = matrix.copy()\n",
    "    \n",
    "    for k in range(n - 1):\n",
    "        # Check if the pivot element is zero\n",
    "        if U[k, k] == 0:\n",
    "            raise ValueError(\"LU decomposition failed: Zero pivot encountered\")\n",
    "        \n",
    "        # Compute the multipliers\n",
    "        L[k+1:, k] = U[k+1:, k] / U[k, k]\n",
    "        \n",
    "        # Update the submatrix\n",
    "        U[k+1:, k:] -= np.outer(L[k+1:, k], U[k, k:])\n",
    "    \n",
    "    return L, U\n",
    "\n",
    "# Example usage:\n",
    "matrix = np.array([[2, -1, 0],\n",
    "                   [-1, 2, -1],\n",
    "                   [0, -1, 2]])\n",
    "\n",
    "L, U = lu_decomposition(matrix)\n",
    "\n",
    "print(\"Original Matrix:\")\n",
    "print(matrix)\n",
    "print(\"\\nLower Triangular Matrix (L):\")\n",
    "print(L)\n",
    "print(\"\\nUpper Triangular Matrix (U):\")\n",
    "print(U)"
   ]
  },
  {
   "cell_type": "code",
   "execution_count": 37,
   "id": "a61d546a",
   "metadata": {},
   "outputs": [
    {
     "name": "stdout",
     "output_type": "stream",
     "text": [
      "Original Matrix:\n",
      "[[ 1 -1  4]\n",
      " [ 1  4 -2]\n",
      " [ 1  4  2]]\n",
      "\n",
      "Orthogonal Matrix (Q):\n",
      "[[ 5.77350269e-01 -8.16496581e-01 -3.14018492e-16]\n",
      " [ 5.77350269e-01  4.08248290e-01 -7.07106781e-01]\n",
      " [ 5.77350269e-01  4.08248290e-01  7.07106781e-01]]\n",
      "\n",
      "Upper Triangular Matrix (R):\n",
      "[[ 1.73205081  4.04145188  2.30940108]\n",
      " [ 0.          4.0824829  -3.26598632]\n",
      " [ 0.          0.          2.82842712]]\n"
     ]
    }
   ],
   "source": [
    "import numpy as np\n",
    "\n",
    "def qr_decomposition(matrix):\n",
    "    # Ensure the input is a NumPy array\n",
    "    matrix = np.array(matrix, dtype=float)\n",
    "    \n",
    "    m, n = matrix.shape\n",
    "    \n",
    "    # Initialize matrices Q and R\n",
    "    Q = np.zeros((m, n))\n",
    "    R = np.zeros((n, n))\n",
    "    \n",
    "    for j in range(n):\n",
    "        v = matrix[:, j]\n",
    "        \n",
    "        for i in range(j):\n",
    "            R[i, j] = np.dot(Q[:, i], matrix[:, j])\n",
    "            v -= R[i, j] * Q[:, i]\n",
    "        \n",
    "        R[j, j] = np.linalg.norm(v)\n",
    "        Q[:, j] = v / R[j, j]\n",
    "    \n",
    "    return Q, R\n",
    "\n",
    "# Example usage:\n",
    "matrix = np.array([[1, -1, 4],\n",
    "                   [1, 4, -2],\n",
    "                   [1, 4, 2]])\n",
    "\n",
    "Q, R = qr_decomposition(matrix)\n",
    "\n",
    "print(\"Original Matrix:\")\n",
    "print(matrix)\n",
    "print(\"\\nOrthogonal Matrix (Q):\")\n",
    "print(Q)\n",
    "print(\"\\nUpper Triangular Matrix (R):\")\n",
    "print(R)"
   ]
  },
  {
   "cell_type": "code",
   "execution_count": 38,
   "id": "cfb15078",
   "metadata": {},
   "outputs": [
    {
     "name": "stdout",
     "output_type": "stream",
     "text": [
      "Original Matrix:\n",
      "[[1 2]\n",
      " [3 4]\n",
      " [5 6]]\n",
      "\n",
      "Matrix U:\n",
      "[[-0.2298477   0.88346102  0.40824829]\n",
      " [-0.52474482  0.24078249 -0.81649658]\n",
      " [-0.81964194 -0.40189603  0.40824829]]\n",
      "\n",
      "Singular Values (Diagonal Matrix Σ):\n",
      "[[9.52551809 0.        ]\n",
      " [0.         0.51430058]]\n",
      "\n",
      "Transpose of Matrix V (V^T):\n",
      "[[-0.61962948 -0.78489445]\n",
      " [-0.78489445  0.61962948]]\n"
     ]
    }
   ],
   "source": [
    "import numpy as np\n",
    "\n",
    "def svd_decomposition(matrix):\n",
    "    # Ensure the input is a NumPy array\n",
    "    matrix = np.array(matrix, dtype=float)\n",
    "    \n",
    "    # Perform SVD using NumPy's linalg.svd\n",
    "    U, S, Vt = np.linalg.svd(matrix, full_matrices=True)\n",
    "    \n",
    "    return U, S, Vt\n",
    "\n",
    "# Example usage:\n",
    "matrix = np.array([[1, 2],\n",
    "                   [3, 4],\n",
    "                   [5, 6]])\n",
    "\n",
    "U, S, Vt = svd_decomposition(matrix)\n",
    "\n",
    "print(\"Original Matrix:\")\n",
    "print(matrix)\n",
    "print(\"\\nMatrix U:\")\n",
    "print(U)\n",
    "print(\"\\nSingular Values (Diagonal Matrix Σ):\")\n",
    "print(np.diag(S))\n",
    "print(\"\\nTranspose of Matrix V (V^T):\")\n",
    "print(Vt)"
   ]
  },
  {
   "cell_type": "code",
   "execution_count": 39,
   "id": "59d61aac",
   "metadata": {},
   "outputs": [
    {
     "name": "stdout",
     "output_type": "stream",
     "text": [
      "Original Matrix:\n",
      "[[  4  12 -16]\n",
      " [ 12  37 -43]\n",
      " [-16 -43  98]]\n",
      "\n",
      "Lower Triangular Matrix (Cholesky Decomposition):\n",
      "[[ 2.  0.  0.]\n",
      " [ 6.  1.  0.]\n",
      " [-8.  5.  3.]]\n"
     ]
    }
   ],
   "source": [
    "import numpy as np\n",
    "\n",
    "def cholesky_decomposition(matrix):\n",
    "    # Ensure the input is a NumPy array\n",
    "    matrix = np.array(matrix, dtype=float)\n",
    "    \n",
    "    # Check if the matrix is square\n",
    "    if matrix.shape[0] != matrix.shape[1]:\n",
    "        raise ValueError(\"Input matrix must be square\")\n",
    "    \n",
    "    # Check if the matrix is symmetric\n",
    "    if not np.allclose(matrix, matrix.T, atol=1e-8):\n",
    "        raise ValueError(\"Input matrix must be symmetric\")\n",
    "    \n",
    "    n = matrix.shape[0]\n",
    "    L = np.zeros_like(matrix, dtype=float)\n",
    "\n",
    "    for i in range(n):\n",
    "        for j in range(i + 1):\n",
    "            if i == j:\n",
    "                L[i, i] = np.sqrt(matrix[i, i] - np.sum(L[i, :i]**2))\n",
    "            else:\n",
    "                L[i, j] = (matrix[i, j] - np.sum(L[i, :j] * L[j, :j])) / L[j, j]\n",
    "\n",
    "    return L\n",
    "\n",
    "# Example usage:\n",
    "matrix = np.array([[4, 12, -16],\n",
    "                   [12, 37, -43],\n",
    "                   [-16, -43, 98]])\n",
    "\n",
    "L = cholesky_decomposition(matrix)\n",
    "\n",
    "print(\"Original Matrix:\")\n",
    "print(matrix)\n",
    "print(\"\\nLower Triangular Matrix (Cholesky Decomposition):\")\n",
    "print(L)"
   ]
  },
  {
   "cell_type": "code",
   "execution_count": 40,
   "id": "600851b0",
   "metadata": {},
   "outputs": [
    {
     "name": "stdout",
     "output_type": "stream",
     "text": [
      "Original Matrix:\n",
      "[[1 2 3]\n",
      " [4 5 6]\n",
      " [7 8 9]]\n",
      "\n",
      "Rank of the Matrix:\n",
      "2\n"
     ]
    }
   ],
   "source": [
    "import numpy as np\n",
    "\n",
    "def matrix_rank_using_svd(matrix, tolerance=1e-8):\n",
    "    # Ensure the input is a NumPy array\n",
    "    matrix = np.array(matrix, dtype=float)\n",
    "    \n",
    "    # Perform SVD\n",
    "    _, S, _ = np.linalg.svd(matrix)\n",
    "    \n",
    "    # Count non-zero singular values within the tolerance\n",
    "    rank = np.sum(S > tolerance)\n",
    "    \n",
    "    return rank\n",
    "\n",
    "# Example usage:\n",
    "matrix = np.array([[1, 2, 3],\n",
    "                   [4, 5, 6],\n",
    "                   [7, 8, 9]])\n",
    "\n",
    "rank = matrix_rank_using_svd(matrix)\n",
    "\n",
    "print(\"Original Matrix:\")\n",
    "print(matrix)\n",
    "print(\"\\nRank of the Matrix:\")\n",
    "print(rank)"
   ]
  },
  {
   "cell_type": "markdown",
   "id": "0dd52524",
   "metadata": {},
   "source": [
    "Vector Spaces and Subspaces\n",
    "1 Write a program to check if a set of vectors spans a vector space.\n",
    "2 Implement a method to find the basis of a vector space.\n",
    "3 Create a function to check if a vector is in the column space of a matrix.\n",
    "4 Develop a program to find the null space of a matrix.\n",
    "5 Write a function to calculate the dimension of a vector space."
   ]
  },
  {
   "cell_type": "code",
   "execution_count": 41,
   "id": "35bef6c4",
   "metadata": {},
   "outputs": [
    {
     "name": "stdout",
     "output_type": "stream",
     "text": [
      "Set of Vectors 1:\n",
      "[[1, 2, 3], [4, 5, 6], [7, 8, 9]]\n",
      "Spans Vector Space: False\n",
      "\n",
      "Set of Vectors 2:\n",
      "[[1, 2, 3], [4, 5, 6]]\n",
      "Spans Vector Space: False\n"
     ]
    }
   ],
   "source": [
    "import numpy as np\n",
    "\n",
    "def spans_vector_space(vectors):\n",
    "    # Ensure the input is a NumPy array\n",
    "    vectors = np.array(vectors, dtype=float)\n",
    "    \n",
    "    # Form a matrix with vectors as columns\n",
    "    matrix = np.column_stack(vectors)\n",
    "    \n",
    "    # Find the rank of the matrix\n",
    "    rank = np.linalg.matrix_rank(matrix)\n",
    "    \n",
    "    # Dimension of the vector space is the number of rows\n",
    "    dimension_of_vector_space = matrix.shape[0]\n",
    "    \n",
    "    # Check if the vectors span the vector space\n",
    "    return rank == dimension_of_vector_space\n",
    "\n",
    "# Example usage:\n",
    "vectors_set1 = [[1, 2, 3],\n",
    "                [4, 5, 6],\n",
    "                [7, 8, 9]]\n",
    "\n",
    "vectors_set2 = [[1, 2, 3],\n",
    "                [4, 5, 6]]\n",
    "\n",
    "spans_set1 = spans_vector_space(vectors_set1)\n",
    "spans_set2 = spans_vector_space(vectors_set2)\n",
    "\n",
    "print(\"Set of Vectors 1:\")\n",
    "print(vectors_set1)\n",
    "print(\"Spans Vector Space:\", spans_set1)\n",
    "\n",
    "print(\"\\nSet of Vectors 2:\")\n",
    "print(vectors_set2)\n",
    "print(\"Spans Vector Space:\", spans_set2)"
   ]
  },
  {
   "cell_type": "code",
   "execution_count": 47,
   "id": "b0b59e99",
   "metadata": {},
   "outputs": [
    {
     "name": "stdout",
     "output_type": "stream",
     "text": [
      "Standard Basis Vector:\n",
      " [[1. 0.]\n",
      " [0. 1.]]\n",
      "coefficients : [2. 1.]\n",
      "Basis vectors for above coefficients:\n",
      " [[2. 0.]\n",
      " [0. 1.]]\n"
     ]
    }
   ],
   "source": [
    "import numpy as np\n",
    " \n",
    "v = np.array([2, 1])\n",
    " \n",
    "# Create a 2x2 identity matrix representing the standard basis vectors\n",
    "basis = np.eye(2)\n",
    "print('Standard Basis Vector:\\n',basis)\n",
    " \n",
    "# Solve for the coefficients of the linear combination\n",
    "coefficients = np.linalg.solve(basis, v)\n",
    "print('coefficients :',coefficients)\n",
    "# Compute the basis vectors using the coefficients\n",
    "basis_vectors = coefficients * basis\n",
    " \n",
    "print('Basis vectors for above coefficients:\\n',basis_vectors)"
   ]
  },
  {
   "cell_type": "code",
   "execution_count": 6,
   "id": "a3eb3419",
   "metadata": {},
   "outputs": [
    {
     "name": "stdout",
     "output_type": "stream",
     "text": [
      "2\n"
     ]
    }
   ],
   "source": [
    "import numpy as np\n",
    "\n",
    "def calc_vector_space_dim(A):\n",
    "    \"\"\"\n",
    "    Calculate the dimension of the vector space spanned by the columns of A.\n",
    "\n",
    "    Parameters:\n",
    "    A (numpy.ndarray): An m x n matrix.\n",
    "\n",
    "    Returns:\n",
    "    int: The dimension of the vector space spanned by the columns of A.\n",
    "    \"\"\"\n",
    "    # Perform SVD on A\n",
    "    U, s, Vh = np.linalg.svd(A)\n",
    "\n",
    "    # Calculate the rank of A (number of non-zero singular values)\n",
    "    rank = np.sum(s > 1e-10)\n",
    "\n",
    "    return rank\n",
    "\n",
    "A = np.array([[1, 2, 3], [4, 5, 6]])\n",
    "print(calc_vector_space_dim(A)) "
   ]
  },
  {
   "cell_type": "markdown",
   "id": "ccf95239",
   "metadata": {},
   "source": [
    "Applications in Data Science\n",
    "1 Implement a program to perform principal component analysis (PCA) on a dataset.\n",
    "2 Write a function to use matrix operations for data normalization.\n",
    "3 Create a method to perform linear regression using matrix operations.\n",
    "4 Develop a program to apply matrix concepts in image processing (e.g., image rotation).\n",
    "5 Implement a method to use matrices in graph theory for network analysis."
   ]
  },
  {
   "cell_type": "code",
   "execution_count": 7,
   "id": "e2f69d32",
   "metadata": {},
   "outputs": [
    {
     "name": "stdout",
     "output_type": "stream",
     "text": [
      "PCA Result:\n",
      "[[-5.19615242e+00  7.21644966e-16]\n",
      " [ 0.00000000e+00  0.00000000e+00]\n",
      " [ 5.19615242e+00 -7.21644966e-16]]\n"
     ]
    }
   ],
   "source": [
    "import numpy as np\n",
    "\n",
    "def perform_pca(data, num_components):\n",
    "    # Center the data\n",
    "    centered_data = data - np.mean(data, axis=0)\n",
    "\n",
    "    # Calculate the covariance matrix\n",
    "    covariance_matrix = np.cov(centered_data, rowvar=False)\n",
    "\n",
    "    # Perform eigenvalue decomposition\n",
    "    eigenvalues, eigenvectors = np.linalg.eigh(covariance_matrix)\n",
    "\n",
    "    # Sort eigenvectors based on eigenvalues\n",
    "    sorted_indices = np.argsort(eigenvalues)[::-1]\n",
    "    sorted_eigenvectors = eigenvectors[:, sorted_indices]\n",
    "\n",
    "    # Select the top k eigenvectors\n",
    "    selected_eigenvectors = sorted_eigenvectors[:, :num_components]\n",
    "\n",
    "    # Project the data onto the selected eigenvectors\n",
    "    pca_result = np.dot(centered_data, selected_eigenvectors)\n",
    "\n",
    "    return pca_result\n",
    "\n",
    "data = np.array([[1, 2, 3],\n",
    "                 [4, 5, 6],\n",
    "                 [7, 8, 9]])\n",
    "\n",
    "num_components = 2\n",
    "result = perform_pca(data, num_components)\n",
    "print(\"PCA Result:\")\n",
    "print(result)"
   ]
  },
  {
   "cell_type": "code",
   "execution_count": 8,
   "id": "54d8ce20",
   "metadata": {},
   "outputs": [
    {
     "name": "stdout",
     "output_type": "stream",
     "text": [
      "Normalized Data:\n",
      "[[-1.22474487 -1.22474487 -1.22474487]\n",
      " [ 0.          0.          0.        ]\n",
      " [ 1.22474487  1.22474487  1.22474487]]\n"
     ]
    }
   ],
   "source": [
    "import numpy as np\n",
    "\n",
    "def normalize_data(data):\n",
    "    mean = np.mean(data, axis=0)\n",
    "    std_dev = np.std(data, axis=0)\n",
    "    normalized_data = (data - mean) / std_dev\n",
    "    return normalized_data\n",
    "\n",
    "data = np.array([[1, 2, 3],\n",
    "                 [4, 5, 6],\n",
    "                 [7, 8, 9]])\n",
    "\n",
    "normalized_data = normalize_data(data)\n",
    "print(\"Normalized Data:\")\n",
    "print(normalized_data)"
   ]
  },
  {
   "cell_type": "code",
   "execution_count": 12,
   "id": "e8a23cf9",
   "metadata": {},
   "outputs": [
    {
     "name": "stdout",
     "output_type": "stream",
     "text": [
      "Linear Regression Coefficients:\n",
      "[-5.  4.]\n"
     ]
    }
   ],
   "source": [
    "import numpy as np\n",
    "\n",
    "def linear_regression(X, y):\n",
    "    \"\"\"\n",
    "    Perform linear regression using matrix operations.\n",
    "\n",
    "    Parameters:\n",
    "    - X: Input feature matrix (including bias term)\n",
    "    - y: Target values\n",
    "\n",
    "    Returns:\n",
    "    - theta: Regression coefficients\n",
    "    \"\"\"\n",
    "\n",
    "    # Use normal equation to find optimal parameters\n",
    "    theta = np.linalg.inv(X.T @ X) @ X.T @ y\n",
    "\n",
    "    return theta\n",
    "\n",
    "# Example usage:\n",
    "# Suppose we have input features X and target values y\n",
    "X = np.array([[1, 2],\n",
    "              [1, 3],\n",
    "              [1, 4]])\n",
    "\n",
    "y = np.array([3, 7, 11])\n",
    "\n",
    "# Call the linear regression function\n",
    "theta = linear_regression(X, y)\n",
    "\n",
    "# Print the obtained regression coefficients\n",
    "print(\"Linear Regression Coefficients:\")\n",
    "print(theta)"
   ]
  },
  {
   "cell_type": "code",
   "execution_count": 10,
   "id": "555a3320",
   "metadata": {},
   "outputs": [
    {
     "data": {
      "image/png": "[encoded data removed]",
      "text/plain": [
       "<Figure size 640x480 with 1 Axes>"
      ]
     },
     "metadata": {},
     "output_type": "display_data"
    }
   ],
   "source": [
    "from scipy.ndimage import rotate\n",
    "import matplotlib.pyplot as plt\n",
    "\n",
    "def rotate_image(image, angle):\n",
    "    rotated_image = rotate(image, angle, reshape=False)\n",
    "    return rotated_image\n",
    "\n",
    "image = np.array([[1, 2, 3],\n",
    "                  [4, 5, 6],\n",
    "                  [7, 8, 9]])\n",
    "\n",
    "rotated_image = rotate_image(image, 45)\n",
    "plt.imshow(rotated_image, cmap='gray')\n",
    "plt.show()"
   ]
  },
  {
   "cell_type": "code",
   "execution_count": 11,
   "id": "4d9eec63",
   "metadata": {},
   "outputs": [
    {
     "data": {
      "image/png": "[encoded data removed]",
      "text/plain": [
       "<Figure size 640x480 with 1 Axes>"
      ]
     },
     "metadata": {},
     "output_type": "display_data"
    },
    {
     "name": "stdout",
     "output_type": "stream",
     "text": [
      "Adjacency Matrix:\n",
      "[[0 1 1]\n",
      " [1 0 1]\n",
      " [1 1 0]]\n"
     ]
    }
   ],
   "source": [
    "import networkx as nx\n",
    "import matplotlib.pyplot as plt\n",
    "\n",
    "def adjacency_matrix(graph):\n",
    "    return nx.adjacency_matrix(graph).toarray()\n",
    "\n",
    "def plot_graph(graph):\n",
    "    nx.draw(graph, with_labels=True, font_weight='bold')\n",
    "    plt.show()\n",
    "\n",
    "G = nx.Graph()\n",
    "G.add_edges_from([(1, 2), (2, 3), (3, 1)])\n",
    "plot_graph(G)\n",
    "\n",
    "adj_matrix = adjacency_matrix(G)\n",
    "print(\"Adjacency Matrix:\")\n",
    "print(adj_matrix)"
   ]
  },
  {
   "cell_type": "markdown",
   "id": "f2de05e6",
   "metadata": {},
   "source": [
    "Advanced Problems\n",
    "1 Solve for eigenvalues and eigenvectors of a complex matrix.\n",
    "2 Write a program to perform tensor multiplication.\n",
    "3 Implement Strassen's algorithm for matrix multiplication.\n",
    "4 Create a function to decompose a matrix into lower and upper triangular matrices.\n",
    "5 Write a method to explore the relationship between linear transformations and matrices."
   ]
  },
  {
   "cell_type": "code",
   "execution_count": 13,
   "id": "000d971c",
   "metadata": {},
   "outputs": [
    {
     "name": "stdout",
     "output_type": "stream",
     "text": [
      "Complex Matrix:\n",
      "[[1.+2.j 2.+3.j]\n",
      " [3.+1.j 4.-2.j]]\n",
      "\n",
      "Eigenvalues:\n",
      "[4.28939683+1.39711883j 0.71060317-1.39711883j]\n",
      "\n",
      "Eigenvectors:\n",
      "[[ 0.73318104+0.j          0.72659249+0.j        ]\n",
      " [ 0.26902951-0.62455479j -0.60196232-0.33121703j]]\n"
     ]
    }
   ],
   "source": [
    "import numpy as np\n",
    "\n",
    "def complex_eigen(matrix):\n",
    "    eigenvalues, eigenvectors = np.linalg.eig(matrix)\n",
    "    return eigenvalues, eigenvectors\n",
    "\n",
    "complex_matrix = np.array([[1 + 2j, 2 + 3j],\n",
    "                           [3 + 1j, 4 - 2j]])\n",
    "\n",
    "eigenvalues, eigenvectors = complex_eigen(complex_matrix)\n",
    "\n",
    "print(\"Complex Matrix:\")\n",
    "print(complex_matrix)\n",
    "print(\"\\nEigenvalues:\")\n",
    "print(eigenvalues)\n",
    "print(\"\\nEigenvectors:\")\n",
    "print(eigenvectors)"
   ]
  },
  {
   "cell_type": "code",
   "execution_count": 14,
   "id": "d2ea3fb4",
   "metadata": {},
   "outputs": [
    {
     "name": "stdout",
     "output_type": "stream",
     "text": [
      "Tensor 1:\n",
      "[[1 2]\n",
      " [3 4]]\n",
      "\n",
      "Tensor 2:\n",
      "[[5 6]\n",
      " [7 8]]\n",
      "\n",
      "Tensor Multiplication Result:\n",
      "[[[[ 5  6]\n",
      "   [ 7  8]]\n",
      "\n",
      "  [[10 12]\n",
      "   [14 16]]]\n",
      "\n",
      "\n",
      " [[[15 18]\n",
      "   [21 24]]\n",
      "\n",
      "  [[20 24]\n",
      "   [28 32]]]]\n"
     ]
    }
   ],
   "source": [
    "import numpy as np\n",
    "\n",
    "def tensor_multiplication(tensor1, tensor2):\n",
    "    result = np.tensordot(tensor1, tensor2, axes=0)\n",
    "    return result\n",
    "\n",
    "tensor1 = np.array([[1, 2],\n",
    "                    [3, 4]])\n",
    "\n",
    "tensor2 = np.array([[5, 6],\n",
    "                    [7, 8]])\n",
    "\n",
    "result = tensor_multiplication(tensor1, tensor2)\n",
    "\n",
    "print(\"Tensor 1:\")\n",
    "print(tensor1)\n",
    "print(\"\\nTensor 2:\")\n",
    "print(tensor2)\n",
    "print(\"\\nTensor Multiplication Result:\")\n",
    "print(result)"
   ]
  },
  {
   "cell_type": "code",
   "execution_count": 8,
   "id": "33090568",
   "metadata": {},
   "outputs": [
    {
     "name": "stdout",
     "output_type": "stream",
     "text": [
      "Array A =>\n",
      "1 1 1 1 \n",
      "2 2 2 2 \n",
      "3 3 3 3 \n",
      "2 2 2 2 \n",
      "\n",
      "Array B =>\n",
      "1 1 1 1 \n",
      "2 2 2 2 \n",
      "3 3 3 3 \n",
      "2 2 2 2 \n",
      "\n",
      "Result Array =>\n",
      "8 8 8 8 \n",
      "16 16 16 16 \n",
      "24 24 24 24 \n",
      "16 16 16 16 \n",
      "\n"
     ]
    }
   ],
   "source": [
    "ROW_1 = 4\n",
    "COL_1 = 4\n",
    "ROW_2 = 4\n",
    "COL_2 = 4\n",
    " \n",
    "#Function to print the matrix\n",
    "def printMat(a, r, c): \n",
    "    for i in range(r): \n",
    "        for j in range(c): \n",
    "            print(a[i][j], end = \" \") \n",
    "        print() \n",
    "    print() \n",
    " \n",
    "#Function to print the matrix\n",
    "def printt(display, matrix, start_row, start_column, end_row,end_column): \n",
    "    print(display + \" =>\\n\")\n",
    "    for i in range(start_row, end_row+1): \n",
    "        for j in range(start_column, end_column+1): \n",
    "            print(matrix[i][j], end=\" \") \n",
    "        print() \n",
    "    print() \n",
    " \n",
    "#Function to add two matrices\n",
    "def add_matrix(matrix_A, matrix_B, matrix_C, split_index): \n",
    "    for i in range(split_index): \n",
    "        for j in range(split_index): \n",
    "            matrix_C[i][j] = matrix_A[i][j] + matrix_B[i][j] \n",
    " \n",
    "#Function to initialize matrix with zeros\n",
    "def initWithZeros(a, r, c): \n",
    "    for i in range(r): \n",
    "        for j in range(c): \n",
    "            a[i][j] = 0\n",
    " \n",
    "#Function to multiply two matrices\n",
    "def multiply_matrix(matrix_A, matrix_B): \n",
    "    col_1 = len(matrix_A[0]) \n",
    "    row_1 = len(matrix_A) \n",
    "    col_2 = len(matrix_B[0]) \n",
    "    row_2 = len(matrix_B) \n",
    " \n",
    "    if (col_1 != row_2): \n",
    "        print(\"\\nError: The number of columns in Matrix A  must be equal to the number of rows in Matrix B\\n\") \n",
    "        return 0\n",
    " \n",
    "    result_matrix_row = [0] * col_2\n",
    "    result_matrix = [[0 for x in range(col_2)] for y in range(row_1)] \n",
    " \n",
    "    if (col_1 == 1): \n",
    "        result_matrix[0][0] = matrix_A[0][0] * matrix_B[0][0] \n",
    " \n",
    "    else: \n",
    "        split_index = col_1 // 2\n",
    " \n",
    "        row_vector = [0] * split_index \n",
    "        result_matrix_00 = [[0 for x in range(split_index)] for y in range(split_index)] \n",
    "        result_matrix_01 = [[0 for x in range(split_index)] for y in range(split_index)] \n",
    "        result_matrix_10 = [[0 for x in range(split_index)] for y in range(split_index)] \n",
    "        result_matrix_11 = [[0 for x in range(split_index)] for y in range(split_index)] \n",
    "        a00 = [[0 for x in range(split_index)] for y in range(split_index)] \n",
    "        a01 = [[0 for x in range(split_index)] for y in range(split_index)] \n",
    "        a10 = [[0 for x in range(split_index)] for y in range(split_index)] \n",
    "        a11 = [[0 for x in range(split_index)] for y in range(split_index)] \n",
    "        b00 = [[0 for x in range(split_index)] for y in range(split_index)] \n",
    "        b01 = [[0 for x in range(split_index)] for y in range(split_index)] \n",
    "        b10 = [[0 for x in range(split_index)] for y in range(split_index)] \n",
    "        b11 = [[0 for x in range(split_index)] for y in range(split_index)] \n",
    " \n",
    "        for i in range(split_index): \n",
    "            for j in range(split_index): \n",
    "                a00[i][j] = matrix_A[i][j] \n",
    "                a01[i][j] = matrix_A[i][j + split_index] \n",
    "                a10[i][j] = matrix_A[split_index + i][j] \n",
    "                a11[i][j] = matrix_A[i + split_index][j + split_index] \n",
    "                b00[i][j] = matrix_B[i][j] \n",
    "                b01[i][j] = matrix_B[i][j + split_index] \n",
    "                b10[i][j] = matrix_B[split_index + i][j] \n",
    "                b11[i][j] = matrix_B[i + split_index][j + split_index] \n",
    " \n",
    "        add_matrix(multiply_matrix(a00, b00),multiply_matrix(a01, b10),result_matrix_00, split_index)\n",
    "        add_matrix(multiply_matrix(a00, b01),multiply_matrix(a01, b11),result_matrix_01, split_index)\n",
    "        add_matrix(multiply_matrix(a10, b00),multiply_matrix(a11, b10),result_matrix_10, split_index)\n",
    "        add_matrix(multiply_matrix(a10, b01),multiply_matrix(a11, b11),result_matrix_11, split_index)\n",
    " \n",
    "        for i in range(split_index): \n",
    "            for j in range(split_index): \n",
    "                result_matrix[i][j] = result_matrix_00[i][j] \n",
    "                result_matrix[i][j + split_index] = result_matrix_01[i][j] \n",
    "                result_matrix[split_index + i][j] = result_matrix_10[i][j] \n",
    "                result_matrix[i + split_index][j + split_index] = result_matrix_11[i][j] \n",
    " \n",
    "    return result_matrix \n",
    " \n",
    "# Driver Code \n",
    "matrix_A = [ [1, 1, 1, 1], \n",
    "            [2, 2, 2, 2], \n",
    "            [3, 3, 3, 3], \n",
    "            [2, 2, 2, 2] ] \n",
    " \n",
    "print(\"Array A =>\") \n",
    "printMat(matrix_A,4,4) \n",
    " \n",
    "matrix_B = [ [1, 1, 1, 1], \n",
    "            [2, 2, 2, 2], \n",
    "            [3, 3, 3, 3], \n",
    "            [2, 2, 2, 2] ] \n",
    " \n",
    "print(\"Array B =>\") \n",
    "printMat(matrix_B,4,4) \n",
    " \n",
    "result_matrix = multiply_matrix(matrix_A, matrix_B) \n",
    " \n",
    "print(\"Result Array =>\")\n",
    "printMat(result_matrix,4,4)"
   ]
  },
  {
   "cell_type": "code",
   "execution_count": 10,
   "id": "c0c90d41",
   "metadata": {},
   "outputs": [
    {
     "name": "stdout",
     "output_type": "stream",
     "text": [
      "Original Matrix:\n",
      "[[ 4 -2  1]\n",
      " [ 1 -3  4]\n",
      " [ 5  2 -6]]\n",
      "\n",
      "Lower Triangular Matrix (L):\n",
      "[[ 1.    0.    0.  ]\n",
      " [ 0.25  1.    0.  ]\n",
      " [ 1.25 -1.8   1.  ]]\n",
      "\n",
      "Upper Triangular Matrix (U):\n",
      "[[ 4.   -2.    1.  ]\n",
      " [ 0.   -2.5   3.75]\n",
      " [ 0.    0.   -0.5 ]]\n"
     ]
    }
   ],
   "source": [
    "import numpy as np\n",
    "\n",
    "def lu_decomposition(matrix):\n",
    "    \"\"\"\n",
    "    LU decomposition of a square matrix into Lower and Upper triangular matrices.\n",
    "\n",
    "    Parameters:\n",
    "    - matrix: The input square matrix.\n",
    "\n",
    "    Returns:\n",
    "    - L: Lower triangular matrix.\n",
    "    - U: Upper triangular matrix.\n",
    "    \"\"\"\n",
    "    # Ensure the input is a NumPy array\n",
    "    matrix = np.array(matrix, dtype=float)\n",
    "\n",
    "    # Check if the matrix is square\n",
    "    if matrix.shape[0] != matrix.shape[1]:\n",
    "        raise ValueError(\"Input matrix must be square for LU decomposition\")\n",
    "\n",
    "    n = matrix.shape[0]\n",
    "\n",
    "    # Initialize matrices L and U\n",
    "    L = np.eye(n)\n",
    "    U = matrix.copy()\n",
    "\n",
    "    for k in range(n - 1):\n",
    "        # Check if the pivot element is zero\n",
    "        if U[k, k] == 0:\n",
    "            raise ValueError(\"LU decomposition failed: Zero pivot encountered\")\n",
    "\n",
    "        # Compute the multipliers\n",
    "        L[k+1:, k] = U[k+1:, k] / U[k, k]\n",
    "\n",
    "        # Update the submatrix\n",
    "        U[k+1:, k:] -= np.outer(L[k+1:, k], U[k, k:])\n",
    "\n",
    "    return L, U\n",
    "\n",
    "matrix = np.array([[4, -2, 1],\n",
    "                   [1, -3, 4],\n",
    "                   [5, 2, -6]])\n",
    "\n",
    "L, U = lu_decomposition(matrix)\n",
    "\n",
    "print(\"Original Matrix:\")\n",
    "print(matrix)\n",
    "print(\"\\nLower Triangular Matrix (L):\")\n",
    "print(L)\n",
    "print(\"\\nUpper Triangular Matrix (U):\")\n",
    "print(U)"
   ]
  },
  {
   "cell_type": "code",
   "execution_count": 11,
   "id": "5b46026c",
   "metadata": {},
   "outputs": [
    {
     "data": {
      "image/png": "[encoded data removed]",
      "text/plain": [
       "<Figure size 800x800 with 1 Axes>"
      ]
     },
     "metadata": {},
     "output_type": "display_data"
    }
   ],
   "source": [
    "import numpy as np\n",
    "import matplotlib.pyplot as plt\n",
    "\n",
    "def linear_transformation_matrix_visualization(matrix):\n",
    "    \"\"\"\n",
    "    Explore the relationship between linear transformations and matrices by visualizing\n",
    "    the effect of the transformation on a set of points.\n",
    "\n",
    "    Parameters:\n",
    "    - matrix: The linear transformation matrix.\n",
    "\n",
    "    Returns:\n",
    "    - None (displays a plot).\n",
    "    \"\"\"\n",
    "    # Generate a set of points in 2D\n",
    "    points = np.array([[1, 0],\n",
    "                       [0, 1],\n",
    "                       [-1, 0],\n",
    "                       [0, -1]])\n",
    "\n",
    "    # Apply the linear transformation\n",
    "    transformed_points = np.dot(points, matrix.T)\n",
    "\n",
    "    # Plot original and transformed points\n",
    "    plt.figure(figsize=(8, 8))\n",
    "    plt.scatter(points[:, 0], points[:, 1], label='Original Points')\n",
    "    plt.scatter(transformed_points[:, 0], transformed_points[:, 1], label='Transformed Points', marker='x')\n",
    "\n",
    "    # Plot the linear transformation as vectors\n",
    "    for i in range(len(points)):\n",
    "        plt.arrow(points[i, 0], points[i, 1], transformed_points[i, 0] - points[i, 0],\n",
    "                  transformed_points[i, 1] - points[i, 1], head_width=0.1, head_length=0.1, fc='r', ec='r', alpha=0.5)\n",
    "\n",
    "    plt.axhline(0, color='black',linewidth=0.5)\n",
    "    plt.axvline(0, color='black',linewidth=0.5)\n",
    "    plt.grid(color = 'gray', linestyle = '--', linewidth = 0.5, alpha = 0.7)\n",
    "    plt.legend()\n",
    "    plt.title('Linear Transformation Visualization')\n",
    "    plt.xlabel('X-axis')\n",
    "    plt.ylabel('Y-axis')\n",
    "    plt.show()\n",
    "\n",
    "linear_transformation_matrix = np.array([[2, -1],\n",
    "                                         [1,  3]])\n",
    "\n",
    "linear_transformation_matrix_visualization(linear_transformation_matrix)"
   ]
  },
  {
   "cell_type": "code",
   "execution_count": null,
   "id": "1b3d511a",
   "metadata": {},
   "outputs": [],
   "source": []
  }
 ],
 "metadata": {
  "kernelspec": {
   "display_name": "Python 3 (ipykernel)",
   "language": "python",
   "name": "python3"
  },
  "language_info": {
   "codemirror_mode": {
    "name": "ipython",
    "version": 3
   },
   "file_extension": ".py",
   "mimetype": "text/x-python",
   "name": "python",
   "nbconvert_exporter": "python",
   "pygments_lexer": "ipython3",
   "version": "3.7.9"
  },
  "varInspector": {
   "cols": {
    "lenName": 16,
    "lenType": 16,
    "lenVar": 40
   },
   "kernels_config": {
    "python": {
     "delete_cmd_postfix": "",
     "delete_cmd_prefix": "del ",
     "library": "var_list.py",
     "varRefreshCmd": "print(var_dic_list())"
    },
    "r": {
     "delete_cmd_postfix": ") ",
     "delete_cmd_prefix": "rm(",
     "library": "var_list.r",
     "varRefreshCmd": "cat(var_dic_list()) "
    }
   },
   "types_to_exclude": [
    "module",
    "function",
    "builtin_function_or_method",
    "instance",
    "_Feature"
   ],
   "window_display": false
  }
 },
 "nbformat": 4,
 "nbformat_minor": 5
}
